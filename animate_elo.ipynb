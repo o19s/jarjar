{
 "cells": [
  {
   "cell_type": "code",
   "execution_count": 1,
   "metadata": {},
   "outputs": [],
   "source": [
    "import math\n",
    "import numpy as np\n",
    "import pandas as pd\n",
    "import matplotlib.pyplot as plt\n",
    "import matplotlib.patches as patches\n",
    "import matplotlib.path as path\n",
    "import matplotlib.animation as animation"
   ]
  },
  {
   "cell_type": "code",
   "execution_count": 2,
   "metadata": {},
   "outputs": [],
   "source": [
    "# Field names for your CSV file - query, docid, rating, rater.  Change these to match your csv headers\n",
    "field_query = 'topicID'\n",
    "field_docid = 'docID'\n",
    "field_gold = 'gold'\n",
    "field_rating = 'label'\n",
    "field_rater = 'workerID'\n",
    "\n",
    "raw_csv_filename = 'trec-20002.csv'\n",
    "obfuscated_csv_filename = 'trec-20002-obfuscated.csv'\n",
    "def obfuscate_raters(judgements):\n",
    "    #Drop NaN ratings and sort by the rater\n",
    "    groups = judgements.dropna(subset=[field_rating])\n",
    "    groups = groups.sort_values(by=[field_rater])\n",
    "    #Obfuscate rater into a letter (for example john.smith@example.com ==> 'A')\n",
    "    #WARNING, this uses ASCII to iterate and looks strange if you have more than 26 raters!!!!\n",
    "    last = None\n",
    "    rater_index = 65\n",
    "    for index, row in groups.iterrows():\n",
    "        if last is not None:\n",
    "            if last[field_rater]!=row[field_rater]:\n",
    "                rater_index+=1\n",
    "        last = row\n",
    "        groups.at[index,field_rater]=chr(rater_index)\n",
    "    groups = groups.sort_index()\n",
    "    return groups\n",
    "\n",
    "def elo_initialize(judgements,noob=1000,hasNIST=True):\n",
    "    ratings = {}\n",
    "    if (hasNIST):\n",
    "        ratings['NIST']=3000\n",
    "    raters = sorted(judgements[field_rater].unique())\n",
    "    for rater in raters:\n",
    "        ratings[rater] = noob\n",
    "    return ratings\n",
    "\n",
    "def elo_expected(A, B):\n",
    "    return 1 / (1 + 10 ** ((B - A) / 400))\n",
    "\n",
    "def elo(whiteRating,blackRating,whiteResult,blackResult,kwhite=8,kblack=8):\n",
    "    white = (whiteRating+(kwhite*(whiteResult-elo_expected(blackRating,whiteRating))))\n",
    "    black = (blackRating+(kblack*(blackResult-elo_expected(whiteRating,blackRating))))\n",
    "    return white,black\n",
    "\n",
    "def elo_rate_raters(judgements,noob=1000):\n",
    "    gb = [field_query,field_docid,field_rating]\n",
    "    counts = judgements.loc[:,gb].groupby(gb).size().reset_index(name='counts')\n",
    "    elo_ratings = elo_initialize(judgements,noob,hasNIST=False)\n",
    "    frame_data = [elo_ratings.copy()]\n",
    "    frame_num = 1\n",
    "    for idx,row in counts.iterrows():\n",
    "        if row['counts']>1:\n",
    "            #field_query,field_docid,field_rating\n",
    "            agree = judgements.loc[(judgements[field_query]==row[field_query]) & (judgements[field_docid]==row[field_docid]) & (judgements[field_rating]==row[field_rating])]\n",
    "            disagree = judgements.loc[(judgements[field_query]==row[field_query]) & (judgements[field_docid]==row[field_docid]) & (judgements[field_rating]!=row[field_rating])]\n",
    "            len_agree = len(agree[field_rater])\n",
    "            len_disagree = len(disagree[field_rater])\n",
    "            for aidx,arow in agree.iterrows():\n",
    "                w = arow[field_rater]\n",
    "                for didx,drow in disagree.iterrows():\n",
    "                    b = drow[field_rater]\n",
    "                    current_ratings = frame_data[frame_num-1].copy()\n",
    "                    ws,bs = elo(current_ratings[w],current_ratings[b],1,0)\n",
    "                    current_ratings[w] = ws\n",
    "                    current_ratings[b] = bs\n",
    "                    frame_data.append(current_ratings)\n",
    "                    frame_num += 1\n",
    "    print(len(frame_data))                    \n",
    "    return frame_data\n",
    "\n",
    "def elo_rate(ratings,gold,rating,rater):\n",
    "    win_house = 1\n",
    "    win_rater = 0\n",
    "    if (gold==rating):\n",
    "        win_house = 0\n",
    "        win_rater = 1\n",
    "    ws,bs = elo(ratings['NIST'],ratings[rater],win_house,win_rater)\n",
    "    return ws,bs\n",
    "\n",
    "def elo_rate_row(elo_ratings,idx,row):\n",
    "    rater = row[field_rater]\n",
    "    gold = row[field_gold]\n",
    "    rating = row[field_rating]\n",
    "    if (gold>-2 and rating>-2):\n",
    "        ws,bs = elo_rate(elo_ratings,gold,rating,rater)\n",
    "        #elo_ratings[w] = ws\n",
    "        elo_ratings[rater] = bs\n",
    "    return elo_ratings\n",
    "\n",
    "def elo_rate_raters_vs_trec(judgements):\n",
    "    elo_ratings = elo_initialize(judgements,noob=1000)\n",
    "    frame_data = [elo_ratings.copy()]\n",
    "    frame_num = 1\n",
    "    for idx,row in judgements.iterrows():\n",
    "        current_ratings = frame_data[frame_num-1].copy()\n",
    "        frame_data.append(current_ratings)\n",
    "        frame_data[frame_num] = elo_rate_row(current_ratings,idx,row)\n",
    "        frame_num += 1\n",
    "    print(len(frame_data))\n",
    "    return frame_data"
   ]
  },
  {
   "cell_type": "code",
   "execution_count": 29,
   "metadata": {},
   "outputs": [],
   "source": [
    "def animate_elo(frame_data,filename):\n",
    "    current_ratings = frame_data[len(frame_data)-1]\n",
    "    fig, ax = plt.subplots()\n",
    "    rects = plt.bar(range(len(current_ratings)), list(current_ratings.values()), align='center')\n",
    "    xticks = plt.xticks(range(len(current_ratings)), list(current_ratings.keys()))\n",
    "    patch = None\n",
    "\n",
    "    page = 10\n",
    "    frames = int(len(frame_data)/page)\n",
    "\n",
    "    lims = ax.get_ylim()\n",
    "    print(lims)\n",
    "    \n",
    "    def animate(i):\n",
    "        for n in range(i*page,((i+1)*page)-1):\n",
    "            if(n%1000==0):\n",
    "                print(n)\n",
    "            elo_ratings = frame_data[n]\n",
    "            for rect, rater in zip(rects, elo_ratings):\n",
    "                h = elo_ratings[rater]\n",
    "                rect.set_height(h)\n",
    "                if (h<0):\n",
    "                    c = (h/lims[0])\n",
    "                    rect.set_color((c, 1/9, 1/9, 1))\n",
    "                else:\n",
    "                    c = (h/lims[1])\n",
    "                    rect.set_color((1/9, 1/9, c, 1))\n",
    "        return rects\n",
    "\n",
    "\n",
    "    #ani = animation.FuncAnimation(fig, animate, 10, interval=6, repeat=False, blit=True)\n",
    "    ani = animation.FuncAnimation(fig, animate, frames, interval=3, repeat=False, blit=True)\n",
    "\n",
    "    ani.save(filename, dpi=128)\n",
    "\n",
    "    plt.show()"
   ]
  },
  {
   "cell_type": "code",
   "execution_count": 4,
   "metadata": {},
   "outputs": [],
   "source": [
    "csv_data = pd.read_csv(raw_csv_filename,header=[0],encoding='utf-8')\n",
    "judgement_data = obfuscate_raters(csv_data)"
   ]
  },
  {
   "cell_type": "code",
   "execution_count": 30,
   "metadata": {},
   "outputs": [
    {
     "name": "stdout",
     "output_type": "stream",
     "text": [
      "5824\n",
      "(-11439.598057072442, 3687.59990747964)\n",
      "0\n",
      "0\n",
      "0\n",
      "1000\n",
      "2000\n",
      "3000\n",
      "4000\n",
      "5000\n"
     ]
    },
    {
     "data": {
      "image/png": "[encoded data removed]",
      "text/plain": [
       "<Figure size 432x288 with 1 Axes>"
      ]
     },
     "metadata": {
      "needs_background": "light"
     },
     "output_type": "display_data"
    }
   ],
   "source": [
    "frame_data = elo_rate_raters_vs_trec(judgement_data)\n",
    "animate_elo(frame_data,\"movies/elo.mp4\")"
   ]
  },
  {
   "cell_type": "code",
   "execution_count": 31,
   "metadata": {},
   "outputs": [
    {
     "name": "stdout",
     "output_type": "stream",
     "text": [
      "4145\n",
      "(-8288.462213683631, 10283.004018681864)\n",
      "0\n",
      "0\n",
      "0\n",
      "1000\n",
      "2000\n",
      "3000\n",
      "4000\n"
     ]
    },
    {
     "data": {
      "image/png": "[encoded data removed]",
      "text/plain": [
       "<Figure size 432x288 with 1 Axes>"
      ]
     },
     "metadata": {
      "needs_background": "light"
     },
     "output_type": "display_data"
    }
   ],
   "source": [
    "frame_data = elo_rate_raters(judgement_data)\n",
    "animate_elo(frame_data,\"movies/elo2.mp4\")"
   ]
  },
  {
   "cell_type": "code",
   "execution_count": 38,
   "metadata": {},
   "outputs": [],
   "source": [
    "all_csv_filename = 'trec-20002-top-108.csv'"
   ]
  },
  {
   "cell_type": "code",
   "execution_count": 40,
   "metadata": {},
   "outputs": [],
   "source": [
    "csv_data = pd.read_csv(all_csv_filename,header=[0],encoding='utf-8')"
   ]
  },
  {
   "cell_type": "code",
   "execution_count": 45,
   "metadata": {},
   "outputs": [],
   "source": [
    "workers = csv_data.workerID.unique()"
   ]
  },
  {
   "cell_type": "code",
   "execution_count": 57,
   "metadata": {},
   "outputs": [
    {
     "name": "stdout",
     "output_type": "stream",
     "text": [
      "29864\n",
      "(-56967.597892917816, 5855.599899662753)\n",
      "0\n",
      "0\n",
      "0\n",
      "1000\n",
      "2000\n",
      "3000\n",
      "4000\n",
      "5000\n",
      "6000\n",
      "7000\n",
      "8000\n",
      "9000\n",
      "10000\n",
      "11000\n",
      "12000\n",
      "13000\n",
      "14000\n",
      "15000\n",
      "16000\n",
      "17000\n",
      "18000\n",
      "19000\n",
      "20000\n",
      "21000\n",
      "22000\n",
      "23000\n",
      "24000\n",
      "25000\n",
      "26000\n",
      "27000\n",
      "28000\n",
      "29000\n"
     ]
    },
    {
     "data": {
      "image/png": "[encoded data removed]",
      "text/plain": [
       "<Figure size 432x288 with 1 Axes>"
      ]
     },
     "metadata": {
      "needs_background": "light"
     },
     "output_type": "display_data"
    },
    {
     "name": "stdout",
     "output_type": "stream",
     "text": [
      "23626\n",
      "(-38218.798102144814, 4962.799909625944)\n",
      "0\n",
      "0\n",
      "0\n",
      "1000\n",
      "2000\n",
      "3000\n",
      "4000\n",
      "5000\n",
      "6000\n",
      "7000\n",
      "8000\n",
      "9000\n",
      "10000\n",
      "11000\n",
      "12000\n",
      "13000\n",
      "14000\n",
      "15000\n",
      "16000\n",
      "17000\n",
      "18000\n",
      "19000\n",
      "20000\n",
      "21000\n",
      "22000\n",
      "23000\n"
     ]
    },
    {
     "data": {
      "image/png": "[encoded data removed]",
      "text/plain": [
       "<Figure size 432x288 with 1 Axes>"
      ]
     },
     "metadata": {
      "needs_background": "light"
     },
     "output_type": "display_data"
    },
    {
     "name": "stdout",
     "output_type": "stream",
     "text": [
      "20037\n",
      "(-24602.39771487789, 4314.399891184661)\n",
      "0\n",
      "0\n",
      "0\n",
      "1000\n",
      "2000\n",
      "3000\n",
      "4000\n",
      "5000\n",
      "6000\n",
      "7000\n",
      "8000\n",
      "9000\n",
      "10000\n",
      "11000\n",
      "12000\n",
      "13000\n",
      "14000\n",
      "15000\n",
      "16000\n",
      "17000\n",
      "18000\n",
      "19000\n",
      "20000\n"
     ]
    },
    {
     "data": {
      "image/png": "[encoded data removed]",
      "text/plain": [
       "<Figure size 432x288 with 1 Axes>"
      ]
     },
     "metadata": {
      "needs_background": "light"
     },
     "output_type": "display_data"
    },
    {
     "name": "stdout",
     "output_type": "stream",
     "text": [
      "18180\n",
      "(-20293.197878692332, 4109.199898985349)\n",
      "0\n",
      "0\n",
      "0\n",
      "1000\n",
      "2000\n",
      "3000\n",
      "4000\n",
      "5000\n",
      "6000\n",
      "7000\n",
      "8000\n",
      "9000\n",
      "10000\n",
      "11000\n",
      "12000\n",
      "13000\n",
      "14000\n",
      "15000\n",
      "16000\n",
      "17000\n",
      "18000\n"
     ]
    },
    {
     "data": {
      "image/png": "[encoded data removed]",
      "text/plain": [
       "<Figure size 432x288 with 1 Axes>"
      ]
     },
     "metadata": {
      "needs_background": "light"
     },
     "output_type": "display_data"
    },
    {
     "name": "stdout",
     "output_type": "stream",
     "text": [
      "16783\n",
      "(-18537.59796702957, 4025.5999031918846)\n",
      "0\n",
      "0\n",
      "0\n",
      "1000\n",
      "2000\n",
      "3000\n",
      "4000\n",
      "5000\n",
      "6000\n",
      "7000\n",
      "8000\n",
      "9000\n",
      "10000\n",
      "11000\n",
      "12000\n",
      "13000\n",
      "14000\n",
      "15000\n",
      "16000\n"
     ]
    },
    {
     "data": {
      "image/png": "[encoded data removed]",
      "text/plain": [
       "<Figure size 432x288 with 1 Axes>"
      ]
     },
     "metadata": {
      "needs_background": "light"
     },
     "output_type": "display_data"
    },
    {
     "name": "stdout",
     "output_type": "stream",
     "text": [
      "15395\n",
      "(-13783.197981541452, 3799.1999038829263)\n",
      "0\n",
      "0\n",
      "0\n",
      "1000\n",
      "2000\n",
      "3000\n",
      "4000\n",
      "5000\n",
      "6000\n",
      "7000\n",
      "8000\n",
      "9000\n",
      "10000\n",
      "11000\n",
      "12000\n",
      "13000\n",
      "14000\n",
      "15000\n"
     ]
    },
    {
     "data": {
      "image/png": "[encoded data removed]",
      "text/plain": [
       "<Figure size 432x288 with 1 Axes>"
      ]
     },
     "metadata": {
      "needs_background": "light"
     },
     "output_type": "display_data"
    },
    {
     "name": "stdout",
     "output_type": "stream",
     "text": [
      "14479\n",
      "(-13035.597791507349, 3763.5998948336833)\n",
      "0\n",
      "0\n",
      "0\n",
      "1000\n",
      "2000\n",
      "3000\n",
      "4000\n",
      "5000\n",
      "6000\n",
      "7000\n",
      "8000\n",
      "9000\n",
      "10000\n",
      "11000\n",
      "12000\n",
      "13000\n",
      "14000\n"
     ]
    },
    {
     "data": {
      "image/png": "[encoded data removed]",
      "text/plain": [
       "<Figure size 432x288 with 1 Axes>"
      ]
     },
     "metadata": {
      "needs_background": "light"
     },
     "output_type": "display_data"
    },
    {
     "name": "stdout",
     "output_type": "stream",
     "text": [
      "13697\n",
      "(-11557.197835375147, 3693.199896922626)\n",
      "0\n",
      "0\n",
      "0\n",
      "1000\n",
      "2000\n",
      "3000\n",
      "4000\n",
      "5000\n",
      "6000\n",
      "7000\n",
      "8000\n",
      "9000\n",
      "10000\n",
      "11000\n",
      "12000\n",
      "13000\n"
     ]
    },
    {
     "data": {
      "image/png": "[encoded data removed]",
      "text/plain": [
       "<Figure size 432x288 with 1 Axes>"
      ]
     },
     "metadata": {
      "needs_background": "light"
     },
     "output_type": "display_data"
    },
    {
     "name": "stdout",
     "output_type": "stream",
     "text": [
      "13030\n",
      "(-11439.598065080654, 3687.5999078609834)\n",
      "0\n",
      "0\n",
      "0\n",
      "1000\n",
      "2000\n",
      "3000\n",
      "4000\n",
      "5000\n",
      "6000\n",
      "7000\n",
      "8000\n",
      "9000\n",
      "10000\n",
      "11000\n",
      "12000\n",
      "13000\n"
     ]
    },
    {
     "data": {
      "image/png": "[encoded data removed]",
      "text/plain": [
       "<Figure size 432x288 with 1 Axes>"
      ]
     },
     "metadata": {
      "needs_background": "light"
     },
     "output_type": "display_data"
    },
    {
     "name": "stdout",
     "output_type": "stream",
     "text": [
      "12445\n",
      "(-11439.598065080654, 3687.5999078609834)\n",
      "0\n",
      "0\n",
      "0\n",
      "1000\n",
      "2000\n",
      "3000\n",
      "4000\n",
      "5000\n",
      "6000\n",
      "7000\n",
      "8000\n",
      "9000\n",
      "10000\n",
      "11000\n",
      "12000\n"
     ]
    },
    {
     "data": {
      "image/png": "[encoded data removed]",
      "text/plain": [
       "<Figure size 432x288 with 1 Axes>"
      ]
     },
     "metadata": {
      "needs_background": "light"
     },
     "output_type": "display_data"
    },
    {
     "name": "stdout",
     "output_type": "stream",
     "text": [
      "11800\n",
      "(-11439.598065080654, 3687.5999078609834)\n",
      "0\n",
      "0\n",
      "0\n",
      "1000\n",
      "2000\n",
      "3000\n",
      "4000\n",
      "5000\n",
      "6000\n",
      "7000\n",
      "8000\n",
      "9000\n",
      "10000\n",
      "11000\n"
     ]
    },
    {
     "data": {
      "image/png": "[encoded data removed]",
      "text/plain": [
       "<Figure size 432x288 with 1 Axes>"
      ]
     },
     "metadata": {
      "needs_background": "light"
     },
     "output_type": "display_data"
    },
    {
     "name": "stdout",
     "output_type": "stream",
     "text": [
      "11169\n",
      "(-10095.597583296492, 3623.599884918881)\n",
      "0\n",
      "0\n",
      "0\n",
      "1000\n",
      "2000\n",
      "3000\n",
      "4000\n",
      "5000\n",
      "6000\n",
      "7000\n",
      "8000\n",
      "9000\n",
      "10000\n",
      "11000\n"
     ]
    },
    {
     "data": {
      "image/png": "[encoded data removed]",
      "text/plain": [
       "<Figure size 432x288 with 1 Axes>"
      ]
     },
     "metadata": {
      "needs_background": "light"
     },
     "output_type": "display_data"
    }
   ],
   "source": [
    "for i in range(0,12):\n",
    "    group = workers[i:i+9]\n",
    "    judgement_data = obfuscate_raters(csv_data[csv_data['workerID'].isin(group)])\n",
    "    frame_data = elo_rate_raters_vs_trec(judgement_data)\n",
    "    animate_elo(frame_data,\"movies/elo_group_\"+str(i)+\".mp4\")"
   ]
  },
  {
   "cell_type": "code",
   "execution_count": 58,
   "metadata": {},
   "outputs": [
    {
     "name": "stdout",
     "output_type": "stream",
     "text": [
      "6891\n",
      "(-12958.045009021484, 10811.739643176703)\n",
      "0\n",
      "0\n",
      "0\n",
      "1000\n",
      "2000\n",
      "3000\n",
      "4000\n",
      "5000\n",
      "6000\n"
     ]
    },
    {
     "data": {
      "image/png": "[encoded data removed]",
      "text/plain": [
       "<Figure size 432x288 with 1 Axes>"
      ]
     },
     "metadata": {
      "needs_background": "light"
     },
     "output_type": "display_data"
    },
    {
     "name": "stdout",
     "output_type": "stream",
     "text": [
      "4148\n",
      "(-6189.213473942319, 5679.817750761279)\n",
      "0\n",
      "0\n",
      "0\n",
      "1000\n",
      "2000\n",
      "3000\n",
      "4000\n"
     ]
    },
    {
     "data": {
      "image/png": "[encoded data removed]",
      "text/plain": [
       "<Figure size 432x288 with 1 Axes>"
      ]
     },
     "metadata": {
      "needs_background": "light"
     },
     "output_type": "display_data"
    },
    {
     "name": "stdout",
     "output_type": "stream",
     "text": [
      "2578\n",
      "(-4453.066808241737, 6210.724449104203)\n",
      "0\n",
      "0\n",
      "0\n",
      "1000\n",
      "2000\n"
     ]
    },
    {
     "data": {
      "image/png": "[encoded data removed]",
      "text/plain": [
       "<Figure size 432x288 with 1 Axes>"
      ]
     },
     "metadata": {
      "needs_background": "light"
     },
     "output_type": "display_data"
    },
    {
     "name": "stdout",
     "output_type": "stream",
     "text": [
      "2377\n",
      "(-4121.956288456583, 5494.710594052494)\n",
      "0\n",
      "0\n",
      "0\n",
      "1000\n",
      "2000\n"
     ]
    },
    {
     "data": {
      "image/png": "[encoded data removed]",
      "text/plain": [
       "<Figure size 432x288 with 1 Axes>"
      ]
     },
     "metadata": {
      "needs_background": "light"
     },
     "output_type": "display_data"
    },
    {
     "name": "stdout",
     "output_type": "stream",
     "text": [
      "4084\n",
      "(-9243.463872730897, 8958.467142590016)\n",
      "0\n",
      "0\n",
      "0\n",
      "1000\n",
      "2000\n",
      "3000\n",
      "4000\n"
     ]
    },
    {
     "data": {
      "image/png": "[encoded data removed]",
      "text/plain": [
       "<Figure size 432x288 with 1 Axes>"
      ]
     },
     "metadata": {
      "needs_background": "light"
     },
     "output_type": "display_data"
    },
    {
     "name": "stdout",
     "output_type": "stream",
     "text": [
      "1431\n",
      "(-1776.4040824779022, 3611.2270237261882)\n",
      "0\n",
      "0\n",
      "0\n",
      "1000\n"
     ]
    },
    {
     "data": {
      "image/png": "[encoded data removed]",
      "text/plain": [
       "<Figure size 432x288 with 1 Axes>"
      ]
     },
     "metadata": {
      "needs_background": "light"
     },
     "output_type": "display_data"
    },
    {
     "name": "stdout",
     "output_type": "stream",
     "text": [
      "558\n",
      "(-271.75391138626736, 1830.6681928800435)\n",
      "0\n",
      "0\n",
      "0\n"
     ]
    },
    {
     "data": {
      "image/png": "[encoded data removed]",
      "text/plain": [
       "<Figure size 432x288 with 1 Axes>"
      ]
     },
     "metadata": {
      "needs_background": "light"
     },
     "output_type": "display_data"
    },
    {
     "name": "stdout",
     "output_type": "stream",
     "text": [
      "543\n",
      "(-260.8050329696422, 1845.8970529278395)\n",
      "0\n",
      "0\n",
      "0\n"
     ]
    },
    {
     "data": {
      "image/png": "[encoded data removed]",
      "text/plain": [
       "<Figure size 432x288 with 1 Axes>"
      ]
     },
     "metadata": {
      "needs_background": "light"
     },
     "output_type": "display_data"
    },
    {
     "name": "stdout",
     "output_type": "stream",
     "text": [
      "460\n",
      "(0.0, 1457.184502840705)\n",
      "0\n",
      "0\n",
      "0\n"
     ]
    },
    {
     "data": {
      "image/png": "[encoded data removed]",
      "text/plain": [
       "<Figure size 432x288 with 1 Axes>"
      ]
     },
     "metadata": {
      "needs_background": "light"
     },
     "output_type": "display_data"
    },
    {
     "name": "stdout",
     "output_type": "stream",
     "text": [
      "398\n",
      "(0.0, 1550.3396325094384)\n",
      "0\n",
      "0\n",
      "0\n"
     ]
    },
    {
     "data": {
      "image/png": "[encoded data removed]",
      "text/plain": [
       "<Figure size 432x288 with 1 Axes>"
      ]
     },
     "metadata": {
      "needs_background": "light"
     },
     "output_type": "display_data"
    },
    {
     "name": "stdout",
     "output_type": "stream",
     "text": [
      "339\n",
      "(0.0, 1487.0331022170235)\n",
      "0\n",
      "0\n",
      "0\n"
     ]
    },
    {
     "data": {
      "image/png": "[encoded data removed]",
      "text/plain": [
       "<Figure size 432x288 with 1 Axes>"
      ]
     },
     "metadata": {
      "needs_background": "light"
     },
     "output_type": "display_data"
    },
    {
     "name": "stdout",
     "output_type": "stream",
     "text": [
      "454\n",
      "(0.0, 1679.4125547395201)\n",
      "0\n",
      "0\n",
      "0\n"
     ]
    },
    {
     "data": {
      "image/png": "[encoded data removed]",
      "text/plain": [
       "<Figure size 432x288 with 1 Axes>"
      ]
     },
     "metadata": {
      "needs_background": "light"
     },
     "output_type": "display_data"
    }
   ],
   "source": [
    "for i in range(0,12):\n",
    "    group = workers[i:i+9]\n",
    "    judgement_data = obfuscate_raters(csv_data[csv_data['workerID'].isin(group)])\n",
    "    frame_data = elo_rate_raters(judgement_data)\n",
    "    animate_elo(frame_data,\"movies/elo_group_majoritywins_\"+str(i)+\".mp4\")"
   ]
  },
  {
   "cell_type": "code",
   "execution_count": 59,
   "metadata": {},
   "outputs": [
    {
     "data": {
      "text/plain": [
       "104"
      ]
     },
     "execution_count": 59,
     "metadata": {},
     "output_type": "execute_result"
    }
   ],
   "source": [
    "#frame_data = elo_rate_raters(csv_data)\n",
    "#animate_elo(frame_data,\"movies/elo_all.mp4\")"
   ]
  },
  {
   "cell_type": "code",
   "execution_count": null,
   "metadata": {},
   "outputs": [],
   "source": []
  }
 ],
 "metadata": {
  "kernelspec": {
   "display_name": "Python 3",
   "language": "python",
   "name": "python3"
  },
  "language_info": {
   "codemirror_mode": {
    "name": "ipython",
    "version": 3
   },
   "file_extension": ".py",
   "mimetype": "text/x-python",
   "name": "python",
   "nbconvert_exporter": "python",
   "pygments_lexer": "ipython3",
   "version": "3.6.7"
  }
 },
 "nbformat": 4,
 "nbformat_minor": 2
}
