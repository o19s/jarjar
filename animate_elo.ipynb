{
 "cells": [
  {
   "cell_type": "code",
   "execution_count": 1,
   "metadata": {},
   "outputs": [],
   "source": [
    "import math\n",
    "import numpy as np\n",
    "import pandas as pd\n",
    "import matplotlib.pyplot as plt\n",
    "import matplotlib.patches as patches\n",
    "import matplotlib.path as path\n",
    "import matplotlib.animation as animation"
   ]
  },
  {
   "cell_type": "code",
   "execution_count": 111,
   "metadata": {},
   "outputs": [],
   "source": [
    "# Field names for your CSV file - query, docid, rating, rater.  Change these to match your csv headers\n",
    "field_query = 'topicID'\n",
    "field_docid = 'docID'\n",
    "field_gold = 'gold'\n",
    "field_rating = 'label'\n",
    "field_rater = 'workerID'\n",
    "\n",
    "raw_csv_filename = 'trec-20002.csv'\n",
    "obfuscated_csv_filename = 'trec-20002-obfuscated.csv'\n",
    "def obfuscate_raters(judgements):\n",
    "    #Drop NaN ratings and sort by the rater\n",
    "    groups = judgements.dropna(subset=[field_rating])\n",
    "    groups = groups.sort_values(by=[field_rater])\n",
    "    #Obfuscate rater into a letter (for example john.smith@example.com ==> 'A')\n",
    "    #WARNING, this uses ASCII to iterate and looks strange if you have more than 26 raters!!!!\n",
    "    last = None\n",
    "    rater_index = 65\n",
    "    for index, row in groups.iterrows():\n",
    "        if last is not None:\n",
    "            if last[field_rater]!=row[field_rater]:\n",
    "                rater_index+=1\n",
    "        last = row\n",
    "        groups.at[index,field_rater]=chr(rater_index)\n",
    "    groups = groups.sort_index()\n",
    "    return groups\n",
    "\n",
    "def elo_initialize(judgements,noob=1000,hasNIST=True):\n",
    "    ratings = {}\n",
    "    if (hasNIST):\n",
    "        ratings['NIST']=3000\n",
    "    raters = sorted(judgements[field_rater].unique())\n",
    "    for rater in raters:\n",
    "        ratings[rater] = noob\n",
    "    return ratings\n",
    "\n",
    "def elo_expected(A, B):\n",
    "    return 1 / (1 + 10 ** ((B - A) / 400))\n",
    "\n",
    "def elo(whiteRating,blackRating,whiteResult,blackResult,kwhite=8,kblack=8):\n",
    "    white = (whiteRating+(kwhite*(whiteResult-elo_expected(blackRating,whiteRating))))\n",
    "    black = (blackRating+(kblack*(blackResult-elo_expected(whiteRating,blackRating))))\n",
    "    return white,black\n",
    "\n",
    "def elo_rate_raters(judgements,noob=1000,outliers=[]):\n",
    "    gb = [field_query,field_docid,field_rating]\n",
    "    for o in outliers:\n",
    "        print(o)\n",
    "        judgements = judgements[judgements[field_rater]!=o]\n",
    "    print(judgements)\n",
    "    counts = judgements.loc[:,gb].groupby(gb).size().reset_index(name='counts')\n",
    "    counts = counts.iloc[counts.groupby([field_query,field_docid])['counts'].agg(pd.Series.idxmax)]\n",
    "    counts = counts.sample(frac=1)\n",
    "    print(counts)\n",
    "    elo_ratings = elo_initialize(judgements,noob,hasNIST=False)\n",
    "    frame_data = [elo_ratings.copy()]\n",
    "    frame_num = 1\n",
    "    for idx,row in counts.iterrows():\n",
    "        if row['counts']>1:\n",
    "            #field_query,field_docid,field_rating\n",
    "            agree = judgements.loc[(judgements[field_query]==row[field_query]) & (judgements[field_docid]==row[field_docid]) & (judgements[field_rating]==row[field_rating])]\n",
    "            disagree = judgements.loc[(judgements[field_query]==row[field_query]) & (judgements[field_docid]==row[field_docid]) & (judgements[field_rating]!=row[field_rating])]\n",
    "            len_agree = len(agree[field_rater])\n",
    "            len_disagree = len(disagree[field_rater])\n",
    "            #print('------------')\n",
    "            #print(row)\n",
    "            #print(row['counts'])\n",
    "            #print(agree)\n",
    "            #print(disagree)\n",
    "            #print(len_agree)\n",
    "            #print(len_disagree)\n",
    "            for aidx,arow in agree.iterrows():\n",
    "                won = arow[field_rater]\n",
    "                for didx,drow in disagree.iterrows():\n",
    "                    current_ratings = frame_data[frame_num-1].copy()\n",
    "                    lost = drow[field_rater]\n",
    "                    ws,ls = elo(current_ratings[won],current_ratings[lost],1,0,kwhite=1.1,kblack=1.1)\n",
    "                    current_ratings[won] = ws\n",
    "                    current_ratings[lost] = ls\n",
    "                    frame_data.append(current_ratings)\n",
    "                    frame_num += 1\n",
    "    print(len(frame_data))\n",
    "    return frame_data\n",
    "\n",
    "def elo_rate(ratings,gold,rating,rater):\n",
    "    win_house = 1\n",
    "    win_rater = 0\n",
    "    if (gold==rating):\n",
    "        win_house = 0\n",
    "        win_rater = 1\n",
    "    ws,bs = elo(ratings['NIST'],ratings[rater],win_house,win_rater)\n",
    "    return ws,bs\n",
    "\n",
    "def elo_rate_row(elo_ratings,idx,row):\n",
    "    rater = row[field_rater]\n",
    "    gold = row[field_gold]\n",
    "    rating = row[field_rating]\n",
    "    if (gold>-2 and rating>-2):\n",
    "        ws,bs = elo_rate(elo_ratings,gold,rating,rater)\n",
    "        #elo_ratings[w] = ws\n",
    "        elo_ratings[rater] = bs\n",
    "    return elo_ratings\n",
    "\n",
    "def elo_rate_raters_vs_trec(judgements):\n",
    "    elo_ratings = elo_initialize(judgements,noob=1000)\n",
    "    frame_data = [elo_ratings.copy()]\n",
    "    frame_num = 1\n",
    "    for idx,row in judgements.iterrows():\n",
    "        current_ratings = frame_data[frame_num-1].copy()\n",
    "        frame_data.append(current_ratings)\n",
    "        frame_data[frame_num] = elo_rate_row(current_ratings,idx,row)\n",
    "        frame_num += 1\n",
    "    print(len(frame_data))\n",
    "    return frame_data"
   ]
  },
  {
   "cell_type": "code",
   "execution_count": 115,
   "metadata": {},
   "outputs": [],
   "source": [
    "def animate_elo(frame_data,filename,page=10,dpi=None,width=None,height=None,xrotate=None):\n",
    "    current_ratings = frame_data[len(frame_data)-1]\n",
    "    fig = plt.figure(figsize=(8, 6),dpi=80)\n",
    "    fig,ax = plt.subplots()\n",
    "    if (dpi):\n",
    "        fig.set_dpi(dpi)\n",
    "    if (width and height):\n",
    "        fig.set_figwidth(width, forward=True)\n",
    "        fig.set_figheight(height, forward=True)\n",
    "    rects = plt.bar(range(len(current_ratings)), list(current_ratings.values()), align='center')\n",
    "    xticks = plt.xticks(range(len(current_ratings)), list(current_ratings.keys()), rotation=xrotate)\n",
    "    patch = None\n",
    "\n",
    "    frames = int(len(frame_data)/page)\n",
    "\n",
    "    lims = ax.get_ylim()\n",
    "    print(lims)\n",
    "    \n",
    "    def animate(i):\n",
    "        for n in range(i*page,((i+1)*page)-1):\n",
    "            if(n%1000==0):\n",
    "                print(n)\n",
    "            elo_ratings = frame_data[n]\n",
    "            for rect, rater in zip(rects, elo_ratings):\n",
    "                h = elo_ratings[rater]\n",
    "                rect.set_height(h)\n",
    "                if (h<0):\n",
    "                    c = (h/lims[0])\n",
    "                    rect.set_color((c, 1/9, 1/9, 1))\n",
    "                else:\n",
    "                    c = (h/lims[1])\n",
    "                    rect.set_color((1/9, 1/9, c, 1))\n",
    "        return rects\n",
    "\n",
    "\n",
    "    #ani = animation.FuncAnimation(fig, animate, 10, interval=6, repeat=False, blit=True)\n",
    "    ani = animation.FuncAnimation(fig, animate, frames, interval=3, repeat=False, blit=True)\n",
    "\n",
    "    ani.save(filename, dpi=128)\n",
    "\n",
    "    plt.show()"
   ]
  },
  {
   "cell_type": "code",
   "execution_count": 4,
   "metadata": {},
   "outputs": [],
   "source": [
    "csv_data = pd.read_csv(raw_csv_filename,header=[0],encoding='utf-8')\n",
    "judgement_data = obfuscate_raters(csv_data)"
   ]
  },
  {
   "cell_type": "code",
   "execution_count": 30,
   "metadata": {},
   "outputs": [
    {
     "name": "stdout",
     "output_type": "stream",
     "text": [
      "5824\n",
      "(-11439.598057072442, 3687.59990747964)\n",
      "0\n",
      "0\n",
      "0\n",
      "1000\n",
      "2000\n",
      "3000\n",
      "4000\n",
      "5000\n"
     ]
    },
    {
     "data": {
      "image/png": "[encoded data removed]",
      "text/plain": [
       "<Figure size 432x288 with 1 Axes>"
      ]
     },
     "metadata": {
      "needs_background": "light"
     },
     "output_type": "display_data"
    }
   ],
   "source": [
    "frame_data = elo_rate_raters_vs_trec(judgement_data)\n",
    "animate_elo(frame_data,\"movies/elo.mp4\")"
   ]
  },
  {
   "cell_type": "code",
   "execution_count": 31,
   "metadata": {},
   "outputs": [
    {
     "name": "stdout",
     "output_type": "stream",
     "text": [
      "4145\n",
      "(-8288.462213683631, 10283.004018681864)\n",
      "0\n",
      "0\n",
      "0\n",
      "1000\n",
      "2000\n",
      "3000\n",
      "4000\n"
     ]
    },
    {
     "data": {
      "image/png": "[encoded data removed]",
      "text/plain": [
       "<Figure size 432x288 with 1 Axes>"
      ]
     },
     "metadata": {
      "needs_background": "light"
     },
     "output_type": "display_data"
    }
   ],
   "source": [
    "frame_data = elo_rate_raters(judgement_data)\n",
    "animate_elo(frame_data,\"movies/elo2.mp4\")"
   ]
  },
  {
   "cell_type": "code",
   "execution_count": 38,
   "metadata": {},
   "outputs": [],
   "source": [
    "all_csv_filename = 'trec-20002-top-108.csv'"
   ]
  },
  {
   "cell_type": "code",
   "execution_count": 40,
   "metadata": {},
   "outputs": [],
   "source": [
    "all_csv_filename = 'trec-20002-top-108.csv'\n",
    "csv_data = pd.read_csv(all_csv_filename,header=[0],encoding='utf-8')\n",
    "min_outlier = 'w101'\n",
    "max_outlier = 'w108'\n",
    "frame_data_2=elo_rate_raters(csv_data,outliers=[min_outlier,max_outlier])"
   ]
  },
  {
   "cell_type": "code",
   "execution_count": 45,
   "metadata": {},
   "outputs": [],
   "source": [
    "workers = csv_data.workerID.unique()"
   ]
  },
  {
   "cell_type": "code",
   "execution_count": 57,
   "metadata": {},
   "outputs": [
    {
     "name": "stdout",
     "output_type": "stream",
     "text": [
      "29864\n",
      "(-56967.597892917816, 5855.599899662753)\n",
      "0\n",
      "0\n",
      "0\n",
      "1000\n",
      "2000\n",
      "3000\n",
      "4000\n",
      "5000\n",
      "6000\n",
      "7000\n",
      "8000\n",
      "9000\n",
      "10000\n",
      "11000\n",
      "12000\n",
      "13000\n",
      "14000\n",
      "15000\n",
      "16000\n",
      "17000\n",
      "18000\n",
      "19000\n",
      "20000\n",
      "21000\n",
      "22000\n",
      "23000\n",
      "24000\n",
      "25000\n",
      "26000\n",
      "27000\n",
      "28000\n",
      "29000\n"
     ]
    },
    {
     "data": {
      "image/png": "[encoded data removed]",
      "text/plain": [
       "<Figure size 432x288 with 1 Axes>"
      ]
     },
     "metadata": {
      "needs_background": "light"
     },
     "output_type": "display_data"
    },
    {
     "name": "stdout",
     "output_type": "stream",
     "text": [
      "23626\n",
      "(-38218.798102144814, 4962.799909625944)\n",
      "0\n",
      "0\n",
      "0\n",
      "1000\n",
      "2000\n",
      "3000\n",
      "4000\n",
      "5000\n",
      "6000\n",
      "7000\n",
      "8000\n",
      "9000\n",
      "10000\n",
      "11000\n",
      "12000\n",
      "13000\n",
      "14000\n",
      "15000\n",
      "16000\n",
      "17000\n",
      "18000\n",
      "19000\n",
      "20000\n",
      "21000\n",
      "22000\n",
      "23000\n"
     ]
    },
    {
     "data": {
      "image/png": "[encoded data removed]",
      "text/plain": [
       "<Figure size 432x288 with 1 Axes>"
      ]
     },
     "metadata": {
      "needs_background": "light"
     },
     "output_type": "display_data"
    },
    {
     "name": "stdout",
     "output_type": "stream",
     "text": [
      "20037\n",
      "(-24602.39771487789, 4314.399891184661)\n",
      "0\n",
      "0\n",
      "0\n",
      "1000\n",
      "2000\n",
      "3000\n",
      "4000\n",
      "5000\n",
      "6000\n",
      "7000\n",
      "8000\n",
      "9000\n",
      "10000\n",
      "11000\n",
      "12000\n",
      "13000\n",
      "14000\n",
      "15000\n",
      "16000\n",
      "17000\n",
      "18000\n",
      "19000\n",
      "20000\n"
     ]
    },
    {
     "data": {
      "image/png": "[encoded data removed]",
      "text/plain": [
       "<Figure size 432x288 with 1 Axes>"
      ]
     },
     "metadata": {
      "needs_background": "light"
     },
     "output_type": "display_data"
    },
    {
     "name": "stdout",
     "output_type": "stream",
     "text": [
      "18180\n",
      "(-20293.197878692332, 4109.199898985349)\n",
      "0\n",
      "0\n",
      "0\n",
      "1000\n",
      "2000\n",
      "3000\n",
      "4000\n",
      "5000\n",
      "6000\n",
      "7000\n",
      "8000\n",
      "9000\n",
      "10000\n",
      "11000\n",
      "12000\n",
      "13000\n",
      "14000\n",
      "15000\n",
      "16000\n",
      "17000\n",
      "18000\n"
     ]
    },
    {
     "data": {
      "image/png": "[encoded data removed]",
      "text/plain": [
       "<Figure size 432x288 with 1 Axes>"
      ]
     },
     "metadata": {
      "needs_background": "light"
     },
     "output_type": "display_data"
    },
    {
     "name": "stdout",
     "output_type": "stream",
     "text": [
      "16783\n",
      "(-18537.59796702957, 4025.5999031918846)\n",
      "0\n",
      "0\n",
      "0\n",
      "1000\n",
      "2000\n",
      "3000\n",
      "4000\n",
      "5000\n",
      "6000\n",
      "7000\n",
      "8000\n",
      "9000\n",
      "10000\n",
      "11000\n",
      "12000\n",
      "13000\n",
      "14000\n",
      "15000\n",
      "16000\n"
     ]
    },
    {
     "data": {
      "image/png": "[encoded data removed]",
      "text/plain": [
       "<Figure size 432x288 with 1 Axes>"
      ]
     },
     "metadata": {
      "needs_background": "light"
     },
     "output_type": "display_data"
    },
    {
     "name": "stdout",
     "output_type": "stream",
     "text": [
      "15395\n",
      "(-13783.197981541452, 3799.1999038829263)\n",
      "0\n",
      "0\n",
      "0\n",
      "1000\n",
      "2000\n",
      "3000\n",
      "4000\n",
      "5000\n",
      "6000\n",
      "7000\n",
      "8000\n",
      "9000\n",
      "10000\n",
      "11000\n",
      "12000\n",
      "13000\n",
      "14000\n",
      "15000\n"
     ]
    },
    {
     "data": {
      "image/png": "[encoded data removed]",
      "text/plain": [
       "<Figure size 432x288 with 1 Axes>"
      ]
     },
     "metadata": {
      "needs_background": "light"
     },
     "output_type": "display_data"
    },
    {
     "name": "stdout",
     "output_type": "stream",
     "text": [
      "14479\n",
      "(-13035.597791507349, 3763.5998948336833)\n",
      "0\n",
      "0\n",
      "0\n",
      "1000\n",
      "2000\n",
      "3000\n",
      "4000\n",
      "5000\n",
      "6000\n",
      "7000\n",
      "8000\n",
      "9000\n",
      "10000\n",
      "11000\n",
      "12000\n",
      "13000\n",
      "14000\n"
     ]
    },
    {
     "data": {
      "image/png": "[encoded data removed]",
      "text/plain": [
       "<Figure size 432x288 with 1 Axes>"
      ]
     },
     "metadata": {
      "needs_background": "light"
     },
     "output_type": "display_data"
    },
    {
     "name": "stdout",
     "output_type": "stream",
     "text": [
      "13697\n",
      "(-11557.197835375147, 3693.199896922626)\n",
      "0\n",
      "0\n",
      "0\n",
      "1000\n",
      "2000\n",
      "3000\n",
      "4000\n",
      "5000\n",
      "6000\n",
      "7000\n",
      "8000\n",
      "9000\n",
      "10000\n",
      "11000\n",
      "12000\n",
      "13000\n"
     ]
    },
    {
     "data": {
      "image/png": "[encoded data removed]",
      "text/plain": [
       "<Figure size 432x288 with 1 Axes>"
      ]
     },
     "metadata": {
      "needs_background": "light"
     },
     "output_type": "display_data"
    },
    {
     "name": "stdout",
     "output_type": "stream",
     "text": [
      "13030\n",
      "(-11439.598065080654, 3687.5999078609834)\n",
      "0\n",
      "0\n",
      "0\n",
      "1000\n",
      "2000\n",
      "3000\n",
      "4000\n",
      "5000\n",
      "6000\n",
      "7000\n",
      "8000\n",
      "9000\n",
      "10000\n",
      "11000\n",
      "12000\n",
      "13000\n"
     ]
    },
    {
     "data": {
      "image/png": "[encoded data removed]",
      "text/plain": [
       "<Figure size 432x288 with 1 Axes>"
      ]
     },
     "metadata": {
      "needs_background": "light"
     },
     "output_type": "display_data"
    },
    {
     "name": "stdout",
     "output_type": "stream",
     "text": [
      "12445\n",
      "(-11439.598065080654, 3687.5999078609834)\n",
      "0\n",
      "0\n",
      "0\n",
      "1000\n",
      "2000\n",
      "3000\n",
      "4000\n",
      "5000\n",
      "6000\n",
      "7000\n",
      "8000\n",
      "9000\n",
      "10000\n",
      "11000\n",
      "12000\n"
     ]
    },
    {
     "data": {
      "image/png": "[encoded data removed]",
      "text/plain": [
       "<Figure size 432x288 with 1 Axes>"
      ]
     },
     "metadata": {
      "needs_background": "light"
     },
     "output_type": "display_data"
    },
    {
     "name": "stdout",
     "output_type": "stream",
     "text": [
      "11800\n",
      "(-11439.598065080654, 3687.5999078609834)\n",
      "0\n",
      "0\n",
      "0\n",
      "1000\n",
      "2000\n",
      "3000\n",
      "4000\n",
      "5000\n",
      "6000\n",
      "7000\n",
      "8000\n",
      "9000\n",
      "10000\n",
      "11000\n"
     ]
    },
    {
     "data": {
      "image/png": "[encoded data removed]",
      "text/plain": [
       "<Figure size 432x288 with 1 Axes>"
      ]
     },
     "metadata": {
      "needs_background": "light"
     },
     "output_type": "display_data"
    },
    {
     "name": "stdout",
     "output_type": "stream",
     "text": [
      "11169\n",
      "(-10095.597583296492, 3623.599884918881)\n",
      "0\n",
      "0\n",
      "0\n",
      "1000\n",
      "2000\n",
      "3000\n",
      "4000\n",
      "5000\n",
      "6000\n",
      "7000\n",
      "8000\n",
      "9000\n",
      "10000\n",
      "11000\n"
     ]
    },
    {
     "data": {
      "image/png": "[encoded data removed]",
      "text/plain": [
       "<Figure size 432x288 with 1 Axes>"
      ]
     },
     "metadata": {
      "needs_background": "light"
     },
     "output_type": "display_data"
    }
   ],
   "source": [
    "for i in range(0,12):\n",
    "    group = workers[i:i+9]\n",
    "    judgement_data = obfuscate_raters(csv_data[csv_data['workerID'].isin(group)])\n",
    "    frame_data = elo_rate_raters_vs_trec(judgement_data)\n",
    "    animate_elo(frame_data,\"movies/elo_group_\"+str(i)+\".mp4\")"
   ]
  },
  {
   "cell_type": "code",
   "execution_count": 58,
   "metadata": {},
   "outputs": [
    {
     "name": "stdout",
     "output_type": "stream",
     "text": [
      "6891\n",
      "(-12958.045009021484, 10811.739643176703)\n",
      "0\n",
      "0\n",
      "0\n",
      "1000\n",
      "2000\n",
      "3000\n",
      "4000\n",
      "5000\n",
      "6000\n"
     ]
    },
    {
     "data": {
      "image/png": "[encoded data removed]",
      "text/plain": [
       "<Figure size 432x288 with 1 Axes>"
      ]
     },
     "metadata": {
      "needs_background": "light"
     },
     "output_type": "display_data"
    },
    {
     "name": "stdout",
     "output_type": "stream",
     "text": [
      "4148\n",
      "(-6189.213473942319, 5679.817750761279)\n",
      "0\n",
      "0\n",
      "0\n",
      "1000\n",
      "2000\n",
      "3000\n",
      "4000\n"
     ]
    },
    {
     "data": {
      "image/png": "[encoded data removed]",
      "text/plain": [
       "<Figure size 432x288 with 1 Axes>"
      ]
     },
     "metadata": {
      "needs_background": "light"
     },
     "output_type": "display_data"
    },
    {
     "name": "stdout",
     "output_type": "stream",
     "text": [
      "2578\n",
      "(-4453.066808241737, 6210.724449104203)\n",
      "0\n",
      "0\n",
      "0\n",
      "1000\n",
      "2000\n"
     ]
    },
    {
     "data": {
      "image/png": "[encoded data removed]",
      "text/plain": [
       "<Figure size 432x288 with 1 Axes>"
      ]
     },
     "metadata": {
      "needs_background": "light"
     },
     "output_type": "display_data"
    },
    {
     "name": "stdout",
     "output_type": "stream",
     "text": [
      "2377\n",
      "(-4121.956288456583, 5494.710594052494)\n",
      "0\n",
      "0\n",
      "0\n",
      "1000\n",
      "2000\n"
     ]
    },
    {
     "data": {
      "image/png": "[encoded data removed]",
      "text/plain": [
       "<Figure size 432x288 with 1 Axes>"
      ]
     },
     "metadata": {
      "needs_background": "light"
     },
     "output_type": "display_data"
    },
    {
     "name": "stdout",
     "output_type": "stream",
     "text": [
      "4084\n",
      "(-9243.463872730897, 8958.467142590016)\n",
      "0\n",
      "0\n",
      "0\n",
      "1000\n",
      "2000\n",
      "3000\n",
      "4000\n"
     ]
    },
    {
     "data": {
      "image/png": "[encoded data removed]",
      "text/plain": [
       "<Figure size 432x288 with 1 Axes>"
      ]
     },
     "metadata": {
      "needs_background": "light"
     },
     "output_type": "display_data"
    },
    {
     "name": "stdout",
     "output_type": "stream",
     "text": [
      "1431\n",
      "(-1776.4040824779022, 3611.2270237261882)\n",
      "0\n",
      "0\n",
      "0\n",
      "1000\n"
     ]
    },
    {
     "data": {
      "image/png": "[encoded data removed]",
      "text/plain": [
       "<Figure size 432x288 with 1 Axes>"
      ]
     },
     "metadata": {
      "needs_background": "light"
     },
     "output_type": "display_data"
    },
    {
     "name": "stdout",
     "output_type": "stream",
     "text": [
      "558\n",
      "(-271.75391138626736, 1830.6681928800435)\n",
      "0\n",
      "0\n",
      "0\n"
     ]
    },
    {
     "data": {
      "image/png": "[encoded data removed]",
      "text/plain": [
       "<Figure size 432x288 with 1 Axes>"
      ]
     },
     "metadata": {
      "needs_background": "light"
     },
     "output_type": "display_data"
    },
    {
     "name": "stdout",
     "output_type": "stream",
     "text": [
      "543\n",
      "(-260.8050329696422, 1845.8970529278395)\n",
      "0\n",
      "0\n",
      "0\n"
     ]
    },
    {
     "data": {
      "image/png": "[encoded data removed]",
      "text/plain": [
       "<Figure size 432x288 with 1 Axes>"
      ]
     },
     "metadata": {
      "needs_background": "light"
     },
     "output_type": "display_data"
    },
    {
     "name": "stdout",
     "output_type": "stream",
     "text": [
      "460\n",
      "(0.0, 1457.184502840705)\n",
      "0\n",
      "0\n",
      "0\n"
     ]
    },
    {
     "data": {
      "image/png": "[encoded data removed]",
      "text/plain": [
       "<Figure size 432x288 with 1 Axes>"
      ]
     },
     "metadata": {
      "needs_background": "light"
     },
     "output_type": "display_data"
    },
    {
     "name": "stdout",
     "output_type": "stream",
     "text": [
      "398\n",
      "(0.0, 1550.3396325094384)\n",
      "0\n",
      "0\n",
      "0\n"
     ]
    },
    {
     "data": {
      "image/png": "[encoded data removed]",
      "text/plain": [
       "<Figure size 432x288 with 1 Axes>"
      ]
     },
     "metadata": {
      "needs_background": "light"
     },
     "output_type": "display_data"
    },
    {
     "name": "stdout",
     "output_type": "stream",
     "text": [
      "339\n",
      "(0.0, 1487.0331022170235)\n",
      "0\n",
      "0\n",
      "0\n"
     ]
    },
    {
     "data": {
      "image/png": "[encoded data removed]",
      "text/plain": [
       "<Figure size 432x288 with 1 Axes>"
      ]
     },
     "metadata": {
      "needs_background": "light"
     },
     "output_type": "display_data"
    },
    {
     "name": "stdout",
     "output_type": "stream",
     "text": [
      "454\n",
      "(0.0, 1679.4125547395201)\n",
      "0\n",
      "0\n",
      "0\n"
     ]
    },
    {
     "data": {
      "image/png": "[encoded data removed]",
      "text/plain": [
       "<Figure size 432x288 with 1 Axes>"
      ]
     },
     "metadata": {
      "needs_background": "light"
     },
     "output_type": "display_data"
    }
   ],
   "source": [
    "for i in range(0,12):\n",
    "    group = workers[i:i+9]\n",
    "    judgement_data = obfuscate_raters(csv_data[csv_data['workerID'].isin(group)])\n",
    "    frame_data = elo_rate_raters(judgement_data)\n",
    "    animate_elo(frame_data,\"movies/elo_group_majoritywins_\"+str(i)+\".mp4\")"
   ]
  },
  {
   "cell_type": "code",
   "execution_count": 66,
   "metadata": {},
   "outputs": [
    {
     "name": "stdout",
     "output_type": "stream",
     "text": [
      "46240\n",
      "118280\n",
      "(-9148.006457917338, 15324.870056834001)\n",
      "0\n",
      "0\n",
      "0\n",
      "1000\n",
      "2000\n",
      "3000\n",
      "4000\n"
     ]
    },
    {
     "ename": "KeyboardInterrupt",
     "evalue": "",
     "output_type": "error",
     "traceback": [
      "\u001b[0;31m---------------------------------------------------------------------------\u001b[0m",
      "\u001b[0;31mKeyboardInterrupt\u001b[0m                         Traceback (most recent call last)",
      "\u001b[0;32m<ipython-input-66-1d4dfe657dea>\u001b[0m in \u001b[0;36m<module>\u001b[0;34m\u001b[0m\n\u001b[1;32m      1\u001b[0m \u001b[0mframe_data\u001b[0m \u001b[0;34m=\u001b[0m \u001b[0melo_rate_raters\u001b[0m\u001b[0;34m(\u001b[0m\u001b[0mcsv_data\u001b[0m\u001b[0;34m.\u001b[0m\u001b[0msample\u001b[0m\u001b[0;34m(\u001b[0m\u001b[0mfrac\u001b[0m\u001b[0;34m=\u001b[0m\u001b[0;36m1\u001b[0m\u001b[0;34m)\u001b[0m\u001b[0;34m)\u001b[0m\u001b[0;34m\u001b[0m\u001b[0;34m\u001b[0m\u001b[0m\n\u001b[0;32m----> 2\u001b[0;31m \u001b[0manimate_elo\u001b[0m\u001b[0;34m(\u001b[0m\u001b[0mframe_data\u001b[0m\u001b[0;34m,\u001b[0m\u001b[0;34m\"movies/elo_all.mp4\"\u001b[0m\u001b[0;34m)\u001b[0m\u001b[0;34m\u001b[0m\u001b[0;34m\u001b[0m\u001b[0m\n\u001b[0m",
      "\u001b[0;32m<ipython-input-29-2686b8ba6952>\u001b[0m in \u001b[0;36manimate_elo\u001b[0;34m(frame_data, filename)\u001b[0m\n\u001b[1;32m     32\u001b[0m     \u001b[0mani\u001b[0m \u001b[0;34m=\u001b[0m \u001b[0manimation\u001b[0m\u001b[0;34m.\u001b[0m\u001b[0mFuncAnimation\u001b[0m\u001b[0;34m(\u001b[0m\u001b[0mfig\u001b[0m\u001b[0;34m,\u001b[0m \u001b[0manimate\u001b[0m\u001b[0;34m,\u001b[0m \u001b[0mframes\u001b[0m\u001b[0;34m,\u001b[0m \u001b[0minterval\u001b[0m\u001b[0;34m=\u001b[0m\u001b[0;36m3\u001b[0m\u001b[0;34m,\u001b[0m \u001b[0mrepeat\u001b[0m\u001b[0;34m=\u001b[0m\u001b[0;32mFalse\u001b[0m\u001b[0;34m,\u001b[0m \u001b[0mblit\u001b[0m\u001b[0;34m=\u001b[0m\u001b[0;32mTrue\u001b[0m\u001b[0;34m)\u001b[0m\u001b[0;34m\u001b[0m\u001b[0;34m\u001b[0m\u001b[0m\n\u001b[1;32m     33\u001b[0m \u001b[0;34m\u001b[0m\u001b[0m\n\u001b[0;32m---> 34\u001b[0;31m     \u001b[0mani\u001b[0m\u001b[0;34m.\u001b[0m\u001b[0msave\u001b[0m\u001b[0;34m(\u001b[0m\u001b[0mfilename\u001b[0m\u001b[0;34m,\u001b[0m \u001b[0mdpi\u001b[0m\u001b[0;34m=\u001b[0m\u001b[0;36m128\u001b[0m\u001b[0;34m)\u001b[0m\u001b[0;34m\u001b[0m\u001b[0;34m\u001b[0m\u001b[0m\n\u001b[0m\u001b[1;32m     35\u001b[0m \u001b[0;34m\u001b[0m\u001b[0m\n\u001b[1;32m     36\u001b[0m     \u001b[0mplt\u001b[0m\u001b[0;34m.\u001b[0m\u001b[0mshow\u001b[0m\u001b[0;34m(\u001b[0m\u001b[0;34m)\u001b[0m\u001b[0;34m\u001b[0m\u001b[0;34m\u001b[0m\u001b[0m\n",
      "\u001b[0;32m/anaconda3/envs/tlre-nlp/lib/python3.6/site-packages/matplotlib/animation.py\u001b[0m in \u001b[0;36msave\u001b[0;34m(self, filename, writer, fps, dpi, codec, bitrate, extra_args, metadata, extra_anim, savefig_kwargs)\u001b[0m\n\u001b[1;32m   1171\u001b[0m                     \u001b[0;32mfor\u001b[0m \u001b[0manim\u001b[0m\u001b[0;34m,\u001b[0m \u001b[0md\u001b[0m \u001b[0;32min\u001b[0m \u001b[0mzip\u001b[0m\u001b[0;34m(\u001b[0m\u001b[0mall_anim\u001b[0m\u001b[0;34m,\u001b[0m \u001b[0mdata\u001b[0m\u001b[0;34m)\u001b[0m\u001b[0;34m:\u001b[0m\u001b[0;34m\u001b[0m\u001b[0;34m\u001b[0m\u001b[0m\n\u001b[1;32m   1172\u001b[0m                         \u001b[0;31m# TODO: See if turning off blit is really necessary\u001b[0m\u001b[0;34m\u001b[0m\u001b[0;34m\u001b[0m\u001b[0;34m\u001b[0m\u001b[0m\n\u001b[0;32m-> 1173\u001b[0;31m                         \u001b[0manim\u001b[0m\u001b[0;34m.\u001b[0m\u001b[0m_draw_next_frame\u001b[0m\u001b[0;34m(\u001b[0m\u001b[0md\u001b[0m\u001b[0;34m,\u001b[0m \u001b[0mblit\u001b[0m\u001b[0;34m=\u001b[0m\u001b[0;32mFalse\u001b[0m\u001b[0;34m)\u001b[0m\u001b[0;34m\u001b[0m\u001b[0;34m\u001b[0m\u001b[0m\n\u001b[0m\u001b[1;32m   1174\u001b[0m                     \u001b[0mwriter\u001b[0m\u001b[0;34m.\u001b[0m\u001b[0mgrab_frame\u001b[0m\u001b[0;34m(\u001b[0m\u001b[0;34m**\u001b[0m\u001b[0msavefig_kwargs\u001b[0m\u001b[0;34m)\u001b[0m\u001b[0;34m\u001b[0m\u001b[0;34m\u001b[0m\u001b[0m\n\u001b[1;32m   1175\u001b[0m \u001b[0;34m\u001b[0m\u001b[0m\n",
      "\u001b[0;32m/anaconda3/envs/tlre-nlp/lib/python3.6/site-packages/matplotlib/animation.py\u001b[0m in \u001b[0;36m_draw_next_frame\u001b[0;34m(self, framedata, blit)\u001b[0m\n\u001b[1;32m   1209\u001b[0m         \u001b[0mself\u001b[0m\u001b[0;34m.\u001b[0m\u001b[0m_pre_draw\u001b[0m\u001b[0;34m(\u001b[0m\u001b[0mframedata\u001b[0m\u001b[0;34m,\u001b[0m \u001b[0mblit\u001b[0m\u001b[0;34m)\u001b[0m\u001b[0;34m\u001b[0m\u001b[0;34m\u001b[0m\u001b[0m\n\u001b[1;32m   1210\u001b[0m         \u001b[0mself\u001b[0m\u001b[0;34m.\u001b[0m\u001b[0m_draw_frame\u001b[0m\u001b[0;34m(\u001b[0m\u001b[0mframedata\u001b[0m\u001b[0;34m)\u001b[0m\u001b[0;34m\u001b[0m\u001b[0;34m\u001b[0m\u001b[0m\n\u001b[0;32m-> 1211\u001b[0;31m         \u001b[0mself\u001b[0m\u001b[0;34m.\u001b[0m\u001b[0m_post_draw\u001b[0m\u001b[0;34m(\u001b[0m\u001b[0mframedata\u001b[0m\u001b[0;34m,\u001b[0m \u001b[0mblit\u001b[0m\u001b[0;34m)\u001b[0m\u001b[0;34m\u001b[0m\u001b[0;34m\u001b[0m\u001b[0m\n\u001b[0m\u001b[1;32m   1212\u001b[0m \u001b[0;34m\u001b[0m\u001b[0m\n\u001b[1;32m   1213\u001b[0m     \u001b[0;32mdef\u001b[0m \u001b[0m_init_draw\u001b[0m\u001b[0;34m(\u001b[0m\u001b[0mself\u001b[0m\u001b[0;34m)\u001b[0m\u001b[0;34m:\u001b[0m\u001b[0;34m\u001b[0m\u001b[0;34m\u001b[0m\u001b[0m\n",
      "\u001b[0;32m/anaconda3/envs/tlre-nlp/lib/python3.6/site-packages/matplotlib/animation.py\u001b[0m in \u001b[0;36m_post_draw\u001b[0;34m(self, framedata, blit)\u001b[0m\n\u001b[1;32m   1234\u001b[0m             \u001b[0mself\u001b[0m\u001b[0;34m.\u001b[0m\u001b[0m_blit_draw\u001b[0m\u001b[0;34m(\u001b[0m\u001b[0mself\u001b[0m\u001b[0;34m.\u001b[0m\u001b[0m_drawn_artists\u001b[0m\u001b[0;34m,\u001b[0m \u001b[0mself\u001b[0m\u001b[0;34m.\u001b[0m\u001b[0m_blit_cache\u001b[0m\u001b[0;34m)\u001b[0m\u001b[0;34m\u001b[0m\u001b[0;34m\u001b[0m\u001b[0m\n\u001b[1;32m   1235\u001b[0m         \u001b[0;32melse\u001b[0m\u001b[0;34m:\u001b[0m\u001b[0;34m\u001b[0m\u001b[0;34m\u001b[0m\u001b[0m\n\u001b[0;32m-> 1236\u001b[0;31m             \u001b[0mself\u001b[0m\u001b[0;34m.\u001b[0m\u001b[0m_fig\u001b[0m\u001b[0;34m.\u001b[0m\u001b[0mcanvas\u001b[0m\u001b[0;34m.\u001b[0m\u001b[0mdraw_idle\u001b[0m\u001b[0;34m(\u001b[0m\u001b[0;34m)\u001b[0m\u001b[0;34m\u001b[0m\u001b[0;34m\u001b[0m\u001b[0m\n\u001b[0m\u001b[1;32m   1237\u001b[0m \u001b[0;34m\u001b[0m\u001b[0m\n\u001b[1;32m   1238\u001b[0m     \u001b[0;31m# The rest of the code in this class is to facilitate easy blitting\u001b[0m\u001b[0;34m\u001b[0m\u001b[0;34m\u001b[0m\u001b[0;34m\u001b[0m\u001b[0m\n",
      "\u001b[0;32m/anaconda3/envs/tlre-nlp/lib/python3.6/site-packages/matplotlib/backend_bases.py\u001b[0m in \u001b[0;36mdraw_idle\u001b[0;34m(self, *args, **kwargs)\u001b[0m\n\u001b[1;32m   1897\u001b[0m         \u001b[0;32mif\u001b[0m \u001b[0;32mnot\u001b[0m \u001b[0mself\u001b[0m\u001b[0;34m.\u001b[0m\u001b[0m_is_idle_drawing\u001b[0m\u001b[0;34m:\u001b[0m\u001b[0;34m\u001b[0m\u001b[0;34m\u001b[0m\u001b[0m\n\u001b[1;32m   1898\u001b[0m             \u001b[0;32mwith\u001b[0m \u001b[0mself\u001b[0m\u001b[0;34m.\u001b[0m\u001b[0m_idle_draw_cntx\u001b[0m\u001b[0;34m(\u001b[0m\u001b[0;34m)\u001b[0m\u001b[0;34m:\u001b[0m\u001b[0;34m\u001b[0m\u001b[0;34m\u001b[0m\u001b[0m\n\u001b[0;32m-> 1899\u001b[0;31m                 \u001b[0mself\u001b[0m\u001b[0;34m.\u001b[0m\u001b[0mdraw\u001b[0m\u001b[0;34m(\u001b[0m\u001b[0;34m*\u001b[0m\u001b[0margs\u001b[0m\u001b[0;34m,\u001b[0m \u001b[0;34m**\u001b[0m\u001b[0mkwargs\u001b[0m\u001b[0;34m)\u001b[0m\u001b[0;34m\u001b[0m\u001b[0;34m\u001b[0m\u001b[0m\n\u001b[0m\u001b[1;32m   1900\u001b[0m \u001b[0;34m\u001b[0m\u001b[0m\n\u001b[1;32m   1901\u001b[0m     \u001b[0;32mdef\u001b[0m \u001b[0mdraw_cursor\u001b[0m\u001b[0;34m(\u001b[0m\u001b[0mself\u001b[0m\u001b[0;34m,\u001b[0m \u001b[0mevent\u001b[0m\u001b[0;34m)\u001b[0m\u001b[0;34m:\u001b[0m\u001b[0;34m\u001b[0m\u001b[0;34m\u001b[0m\u001b[0m\n",
      "\u001b[0;32m/anaconda3/envs/tlre-nlp/lib/python3.6/site-packages/matplotlib/backends/backend_agg.py\u001b[0m in \u001b[0;36mdraw\u001b[0;34m(self)\u001b[0m\n\u001b[1;32m    400\u001b[0m         \u001b[0mtoolbar\u001b[0m \u001b[0;34m=\u001b[0m \u001b[0mself\u001b[0m\u001b[0;34m.\u001b[0m\u001b[0mtoolbar\u001b[0m\u001b[0;34m\u001b[0m\u001b[0;34m\u001b[0m\u001b[0m\n\u001b[1;32m    401\u001b[0m         \u001b[0;32mtry\u001b[0m\u001b[0;34m:\u001b[0m\u001b[0;34m\u001b[0m\u001b[0;34m\u001b[0m\u001b[0m\n\u001b[0;32m--> 402\u001b[0;31m             \u001b[0mself\u001b[0m\u001b[0;34m.\u001b[0m\u001b[0mfigure\u001b[0m\u001b[0;34m.\u001b[0m\u001b[0mdraw\u001b[0m\u001b[0;34m(\u001b[0m\u001b[0mself\u001b[0m\u001b[0;34m.\u001b[0m\u001b[0mrenderer\u001b[0m\u001b[0;34m)\u001b[0m\u001b[0;34m\u001b[0m\u001b[0;34m\u001b[0m\u001b[0m\n\u001b[0m\u001b[1;32m    403\u001b[0m             \u001b[0;31m# A GUI class may be need to update a window using this draw, so\u001b[0m\u001b[0;34m\u001b[0m\u001b[0;34m\u001b[0m\u001b[0;34m\u001b[0m\u001b[0m\n\u001b[1;32m    404\u001b[0m             \u001b[0;31m# don't forget to call the superclass.\u001b[0m\u001b[0;34m\u001b[0m\u001b[0;34m\u001b[0m\u001b[0;34m\u001b[0m\u001b[0m\n",
      "\u001b[0;32m/anaconda3/envs/tlre-nlp/lib/python3.6/site-packages/matplotlib/artist.py\u001b[0m in \u001b[0;36mdraw_wrapper\u001b[0;34m(artist, renderer, *args, **kwargs)\u001b[0m\n\u001b[1;32m     48\u001b[0m                 \u001b[0mrenderer\u001b[0m\u001b[0;34m.\u001b[0m\u001b[0mstart_filter\u001b[0m\u001b[0;34m(\u001b[0m\u001b[0;34m)\u001b[0m\u001b[0;34m\u001b[0m\u001b[0;34m\u001b[0m\u001b[0m\n\u001b[1;32m     49\u001b[0m \u001b[0;34m\u001b[0m\u001b[0m\n\u001b[0;32m---> 50\u001b[0;31m             \u001b[0;32mreturn\u001b[0m \u001b[0mdraw\u001b[0m\u001b[0;34m(\u001b[0m\u001b[0martist\u001b[0m\u001b[0;34m,\u001b[0m \u001b[0mrenderer\u001b[0m\u001b[0;34m,\u001b[0m \u001b[0;34m*\u001b[0m\u001b[0margs\u001b[0m\u001b[0;34m,\u001b[0m \u001b[0;34m**\u001b[0m\u001b[0mkwargs\u001b[0m\u001b[0;34m)\u001b[0m\u001b[0;34m\u001b[0m\u001b[0;34m\u001b[0m\u001b[0m\n\u001b[0m\u001b[1;32m     51\u001b[0m         \u001b[0;32mfinally\u001b[0m\u001b[0;34m:\u001b[0m\u001b[0;34m\u001b[0m\u001b[0;34m\u001b[0m\u001b[0m\n\u001b[1;32m     52\u001b[0m             \u001b[0;32mif\u001b[0m \u001b[0martist\u001b[0m\u001b[0;34m.\u001b[0m\u001b[0mget_agg_filter\u001b[0m\u001b[0;34m(\u001b[0m\u001b[0;34m)\u001b[0m \u001b[0;32mis\u001b[0m \u001b[0;32mnot\u001b[0m \u001b[0;32mNone\u001b[0m\u001b[0;34m:\u001b[0m\u001b[0;34m\u001b[0m\u001b[0;34m\u001b[0m\u001b[0m\n",
      "\u001b[0;32m/anaconda3/envs/tlre-nlp/lib/python3.6/site-packages/matplotlib/figure.py\u001b[0m in \u001b[0;36mdraw\u001b[0;34m(self, renderer)\u001b[0m\n\u001b[1;32m   1647\u001b[0m \u001b[0;34m\u001b[0m\u001b[0m\n\u001b[1;32m   1648\u001b[0m             mimage._draw_list_compositing_images(\n\u001b[0;32m-> 1649\u001b[0;31m                 renderer, self, artists, self.suppressComposite)\n\u001b[0m\u001b[1;32m   1650\u001b[0m \u001b[0;34m\u001b[0m\u001b[0m\n\u001b[1;32m   1651\u001b[0m             \u001b[0mrenderer\u001b[0m\u001b[0;34m.\u001b[0m\u001b[0mclose_group\u001b[0m\u001b[0;34m(\u001b[0m\u001b[0;34m'figure'\u001b[0m\u001b[0;34m)\u001b[0m\u001b[0;34m\u001b[0m\u001b[0;34m\u001b[0m\u001b[0m\n",
      "\u001b[0;32m/anaconda3/envs/tlre-nlp/lib/python3.6/site-packages/matplotlib/image.py\u001b[0m in \u001b[0;36m_draw_list_compositing_images\u001b[0;34m(renderer, parent, artists, suppress_composite)\u001b[0m\n\u001b[1;32m    136\u001b[0m     \u001b[0;32mif\u001b[0m \u001b[0mnot_composite\u001b[0m \u001b[0;32mor\u001b[0m \u001b[0;32mnot\u001b[0m \u001b[0mhas_images\u001b[0m\u001b[0;34m:\u001b[0m\u001b[0;34m\u001b[0m\u001b[0;34m\u001b[0m\u001b[0m\n\u001b[1;32m    137\u001b[0m         \u001b[0;32mfor\u001b[0m \u001b[0ma\u001b[0m \u001b[0;32min\u001b[0m \u001b[0martists\u001b[0m\u001b[0;34m:\u001b[0m\u001b[0;34m\u001b[0m\u001b[0;34m\u001b[0m\u001b[0m\n\u001b[0;32m--> 138\u001b[0;31m             \u001b[0ma\u001b[0m\u001b[0;34m.\u001b[0m\u001b[0mdraw\u001b[0m\u001b[0;34m(\u001b[0m\u001b[0mrenderer\u001b[0m\u001b[0;34m)\u001b[0m\u001b[0;34m\u001b[0m\u001b[0;34m\u001b[0m\u001b[0m\n\u001b[0m\u001b[1;32m    139\u001b[0m     \u001b[0;32melse\u001b[0m\u001b[0;34m:\u001b[0m\u001b[0;34m\u001b[0m\u001b[0;34m\u001b[0m\u001b[0m\n\u001b[1;32m    140\u001b[0m         \u001b[0;31m# Composite any adjacent images together\u001b[0m\u001b[0;34m\u001b[0m\u001b[0;34m\u001b[0m\u001b[0;34m\u001b[0m\u001b[0m\n",
      "\u001b[0;32m/anaconda3/envs/tlre-nlp/lib/python3.6/site-packages/matplotlib/artist.py\u001b[0m in \u001b[0;36mdraw_wrapper\u001b[0;34m(artist, renderer, *args, **kwargs)\u001b[0m\n\u001b[1;32m     48\u001b[0m                 \u001b[0mrenderer\u001b[0m\u001b[0;34m.\u001b[0m\u001b[0mstart_filter\u001b[0m\u001b[0;34m(\u001b[0m\u001b[0;34m)\u001b[0m\u001b[0;34m\u001b[0m\u001b[0;34m\u001b[0m\u001b[0m\n\u001b[1;32m     49\u001b[0m \u001b[0;34m\u001b[0m\u001b[0m\n\u001b[0;32m---> 50\u001b[0;31m             \u001b[0;32mreturn\u001b[0m \u001b[0mdraw\u001b[0m\u001b[0;34m(\u001b[0m\u001b[0martist\u001b[0m\u001b[0;34m,\u001b[0m \u001b[0mrenderer\u001b[0m\u001b[0;34m,\u001b[0m \u001b[0;34m*\u001b[0m\u001b[0margs\u001b[0m\u001b[0;34m,\u001b[0m \u001b[0;34m**\u001b[0m\u001b[0mkwargs\u001b[0m\u001b[0;34m)\u001b[0m\u001b[0;34m\u001b[0m\u001b[0;34m\u001b[0m\u001b[0m\n\u001b[0m\u001b[1;32m     51\u001b[0m         \u001b[0;32mfinally\u001b[0m\u001b[0;34m:\u001b[0m\u001b[0;34m\u001b[0m\u001b[0;34m\u001b[0m\u001b[0m\n\u001b[1;32m     52\u001b[0m             \u001b[0;32mif\u001b[0m \u001b[0martist\u001b[0m\u001b[0;34m.\u001b[0m\u001b[0mget_agg_filter\u001b[0m\u001b[0;34m(\u001b[0m\u001b[0;34m)\u001b[0m \u001b[0;32mis\u001b[0m \u001b[0;32mnot\u001b[0m \u001b[0;32mNone\u001b[0m\u001b[0;34m:\u001b[0m\u001b[0;34m\u001b[0m\u001b[0;34m\u001b[0m\u001b[0m\n",
      "\u001b[0;32m/anaconda3/envs/tlre-nlp/lib/python3.6/site-packages/matplotlib/axes/_base.py\u001b[0m in \u001b[0;36mdraw\u001b[0;34m(self, renderer, inframe)\u001b[0m\n\u001b[1;32m   2626\u001b[0m             \u001b[0mrenderer\u001b[0m\u001b[0;34m.\u001b[0m\u001b[0mstop_rasterizing\u001b[0m\u001b[0;34m(\u001b[0m\u001b[0;34m)\u001b[0m\u001b[0;34m\u001b[0m\u001b[0;34m\u001b[0m\u001b[0m\n\u001b[1;32m   2627\u001b[0m \u001b[0;34m\u001b[0m\u001b[0m\n\u001b[0;32m-> 2628\u001b[0;31m         \u001b[0mmimage\u001b[0m\u001b[0;34m.\u001b[0m\u001b[0m_draw_list_compositing_images\u001b[0m\u001b[0;34m(\u001b[0m\u001b[0mrenderer\u001b[0m\u001b[0;34m,\u001b[0m \u001b[0mself\u001b[0m\u001b[0;34m,\u001b[0m \u001b[0martists\u001b[0m\u001b[0;34m)\u001b[0m\u001b[0;34m\u001b[0m\u001b[0;34m\u001b[0m\u001b[0m\n\u001b[0m\u001b[1;32m   2629\u001b[0m \u001b[0;34m\u001b[0m\u001b[0m\n\u001b[1;32m   2630\u001b[0m         \u001b[0mrenderer\u001b[0m\u001b[0;34m.\u001b[0m\u001b[0mclose_group\u001b[0m\u001b[0;34m(\u001b[0m\u001b[0;34m'axes'\u001b[0m\u001b[0;34m)\u001b[0m\u001b[0;34m\u001b[0m\u001b[0;34m\u001b[0m\u001b[0m\n",
      "\u001b[0;32m/anaconda3/envs/tlre-nlp/lib/python3.6/site-packages/matplotlib/image.py\u001b[0m in \u001b[0;36m_draw_list_compositing_images\u001b[0;34m(renderer, parent, artists, suppress_composite)\u001b[0m\n\u001b[1;32m    136\u001b[0m     \u001b[0;32mif\u001b[0m \u001b[0mnot_composite\u001b[0m \u001b[0;32mor\u001b[0m \u001b[0;32mnot\u001b[0m \u001b[0mhas_images\u001b[0m\u001b[0;34m:\u001b[0m\u001b[0;34m\u001b[0m\u001b[0;34m\u001b[0m\u001b[0m\n\u001b[1;32m    137\u001b[0m         \u001b[0;32mfor\u001b[0m \u001b[0ma\u001b[0m \u001b[0;32min\u001b[0m \u001b[0martists\u001b[0m\u001b[0;34m:\u001b[0m\u001b[0;34m\u001b[0m\u001b[0;34m\u001b[0m\u001b[0m\n\u001b[0;32m--> 138\u001b[0;31m             \u001b[0ma\u001b[0m\u001b[0;34m.\u001b[0m\u001b[0mdraw\u001b[0m\u001b[0;34m(\u001b[0m\u001b[0mrenderer\u001b[0m\u001b[0;34m)\u001b[0m\u001b[0;34m\u001b[0m\u001b[0;34m\u001b[0m\u001b[0m\n\u001b[0m\u001b[1;32m    139\u001b[0m     \u001b[0;32melse\u001b[0m\u001b[0;34m:\u001b[0m\u001b[0;34m\u001b[0m\u001b[0;34m\u001b[0m\u001b[0m\n\u001b[1;32m    140\u001b[0m         \u001b[0;31m# Composite any adjacent images together\u001b[0m\u001b[0;34m\u001b[0m\u001b[0;34m\u001b[0m\u001b[0;34m\u001b[0m\u001b[0m\n",
      "\u001b[0;32m/anaconda3/envs/tlre-nlp/lib/python3.6/site-packages/matplotlib/artist.py\u001b[0m in \u001b[0;36mdraw_wrapper\u001b[0;34m(artist, renderer, *args, **kwargs)\u001b[0m\n\u001b[1;32m     48\u001b[0m                 \u001b[0mrenderer\u001b[0m\u001b[0;34m.\u001b[0m\u001b[0mstart_filter\u001b[0m\u001b[0;34m(\u001b[0m\u001b[0;34m)\u001b[0m\u001b[0;34m\u001b[0m\u001b[0;34m\u001b[0m\u001b[0m\n\u001b[1;32m     49\u001b[0m \u001b[0;34m\u001b[0m\u001b[0m\n\u001b[0;32m---> 50\u001b[0;31m             \u001b[0;32mreturn\u001b[0m \u001b[0mdraw\u001b[0m\u001b[0;34m(\u001b[0m\u001b[0martist\u001b[0m\u001b[0;34m,\u001b[0m \u001b[0mrenderer\u001b[0m\u001b[0;34m,\u001b[0m \u001b[0;34m*\u001b[0m\u001b[0margs\u001b[0m\u001b[0;34m,\u001b[0m \u001b[0;34m**\u001b[0m\u001b[0mkwargs\u001b[0m\u001b[0;34m)\u001b[0m\u001b[0;34m\u001b[0m\u001b[0;34m\u001b[0m\u001b[0m\n\u001b[0m\u001b[1;32m     51\u001b[0m         \u001b[0;32mfinally\u001b[0m\u001b[0;34m:\u001b[0m\u001b[0;34m\u001b[0m\u001b[0;34m\u001b[0m\u001b[0m\n\u001b[1;32m     52\u001b[0m             \u001b[0;32mif\u001b[0m \u001b[0martist\u001b[0m\u001b[0;34m.\u001b[0m\u001b[0mget_agg_filter\u001b[0m\u001b[0;34m(\u001b[0m\u001b[0;34m)\u001b[0m \u001b[0;32mis\u001b[0m \u001b[0;32mnot\u001b[0m \u001b[0;32mNone\u001b[0m\u001b[0;34m:\u001b[0m\u001b[0;34m\u001b[0m\u001b[0;34m\u001b[0m\u001b[0m\n",
      "\u001b[0;32m/anaconda3/envs/tlre-nlp/lib/python3.6/site-packages/matplotlib/axis.py\u001b[0m in \u001b[0;36mdraw\u001b[0;34m(self, renderer, *args, **kwargs)\u001b[0m\n\u001b[1;32m   1185\u001b[0m         \u001b[0mticks_to_draw\u001b[0m \u001b[0;34m=\u001b[0m \u001b[0mself\u001b[0m\u001b[0;34m.\u001b[0m\u001b[0m_update_ticks\u001b[0m\u001b[0;34m(\u001b[0m\u001b[0mrenderer\u001b[0m\u001b[0;34m)\u001b[0m\u001b[0;34m\u001b[0m\u001b[0;34m\u001b[0m\u001b[0m\n\u001b[1;32m   1186\u001b[0m         ticklabelBoxes, ticklabelBoxes2 = self._get_tick_bboxes(ticks_to_draw,\n\u001b[0;32m-> 1187\u001b[0;31m                                                                 renderer)\n\u001b[0m\u001b[1;32m   1188\u001b[0m \u001b[0;34m\u001b[0m\u001b[0m\n\u001b[1;32m   1189\u001b[0m         \u001b[0;32mfor\u001b[0m \u001b[0mtick\u001b[0m \u001b[0;32min\u001b[0m \u001b[0mticks_to_draw\u001b[0m\u001b[0;34m:\u001b[0m\u001b[0;34m\u001b[0m\u001b[0;34m\u001b[0m\u001b[0m\n",
      "\u001b[0;32m/anaconda3/envs/tlre-nlp/lib/python3.6/site-packages/matplotlib/axis.py\u001b[0m in \u001b[0;36m_get_tick_bboxes\u001b[0;34m(self, ticks, renderer)\u001b[0m\n\u001b[1;32m   1123\u001b[0m         \u001b[0;32mfor\u001b[0m \u001b[0mtick\u001b[0m \u001b[0;32min\u001b[0m \u001b[0mticks\u001b[0m\u001b[0;34m:\u001b[0m\u001b[0;34m\u001b[0m\u001b[0;34m\u001b[0m\u001b[0m\n\u001b[1;32m   1124\u001b[0m             \u001b[0;32mif\u001b[0m \u001b[0mtick\u001b[0m\u001b[0;34m.\u001b[0m\u001b[0mlabel1On\u001b[0m \u001b[0;32mand\u001b[0m \u001b[0mtick\u001b[0m\u001b[0;34m.\u001b[0m\u001b[0mlabel1\u001b[0m\u001b[0;34m.\u001b[0m\u001b[0mget_visible\u001b[0m\u001b[0;34m(\u001b[0m\u001b[0;34m)\u001b[0m\u001b[0;34m:\u001b[0m\u001b[0;34m\u001b[0m\u001b[0;34m\u001b[0m\u001b[0m\n\u001b[0;32m-> 1125\u001b[0;31m                 \u001b[0mextent\u001b[0m \u001b[0;34m=\u001b[0m \u001b[0mtick\u001b[0m\u001b[0;34m.\u001b[0m\u001b[0mlabel1\u001b[0m\u001b[0;34m.\u001b[0m\u001b[0mget_window_extent\u001b[0m\u001b[0;34m(\u001b[0m\u001b[0mrenderer\u001b[0m\u001b[0;34m)\u001b[0m\u001b[0;34m\u001b[0m\u001b[0;34m\u001b[0m\u001b[0m\n\u001b[0m\u001b[1;32m   1126\u001b[0m                 \u001b[0mticklabelBoxes\u001b[0m\u001b[0;34m.\u001b[0m\u001b[0mappend\u001b[0m\u001b[0;34m(\u001b[0m\u001b[0mextent\u001b[0m\u001b[0;34m)\u001b[0m\u001b[0;34m\u001b[0m\u001b[0;34m\u001b[0m\u001b[0m\n\u001b[1;32m   1127\u001b[0m             \u001b[0;32mif\u001b[0m \u001b[0mtick\u001b[0m\u001b[0;34m.\u001b[0m\u001b[0mlabel2On\u001b[0m \u001b[0;32mand\u001b[0m \u001b[0mtick\u001b[0m\u001b[0;34m.\u001b[0m\u001b[0mlabel2\u001b[0m\u001b[0;34m.\u001b[0m\u001b[0mget_visible\u001b[0m\u001b[0;34m(\u001b[0m\u001b[0;34m)\u001b[0m\u001b[0;34m:\u001b[0m\u001b[0;34m\u001b[0m\u001b[0;34m\u001b[0m\u001b[0m\n",
      "\u001b[0;32m/anaconda3/envs/tlre-nlp/lib/python3.6/site-packages/matplotlib/text.py\u001b[0m in \u001b[0;36mget_window_extent\u001b[0;34m(self, renderer, dpi)\u001b[0m\n\u001b[1;32m    928\u001b[0m             \u001b[0;32mraise\u001b[0m \u001b[0mRuntimeError\u001b[0m\u001b[0;34m(\u001b[0m\u001b[0;34m'Cannot get window extent w/o renderer'\u001b[0m\u001b[0;34m)\u001b[0m\u001b[0;34m\u001b[0m\u001b[0;34m\u001b[0m\u001b[0m\n\u001b[1;32m    929\u001b[0m \u001b[0;34m\u001b[0m\u001b[0m\n\u001b[0;32m--> 930\u001b[0;31m         \u001b[0mbbox\u001b[0m\u001b[0;34m,\u001b[0m \u001b[0minfo\u001b[0m\u001b[0;34m,\u001b[0m \u001b[0mdescent\u001b[0m \u001b[0;34m=\u001b[0m \u001b[0mself\u001b[0m\u001b[0;34m.\u001b[0m\u001b[0m_get_layout\u001b[0m\u001b[0;34m(\u001b[0m\u001b[0mself\u001b[0m\u001b[0;34m.\u001b[0m\u001b[0m_renderer\u001b[0m\u001b[0;34m)\u001b[0m\u001b[0;34m\u001b[0m\u001b[0;34m\u001b[0m\u001b[0m\n\u001b[0m\u001b[1;32m    931\u001b[0m         \u001b[0mx\u001b[0m\u001b[0;34m,\u001b[0m \u001b[0my\u001b[0m \u001b[0;34m=\u001b[0m \u001b[0mself\u001b[0m\u001b[0;34m.\u001b[0m\u001b[0mget_unitless_position\u001b[0m\u001b[0;34m(\u001b[0m\u001b[0;34m)\u001b[0m\u001b[0;34m\u001b[0m\u001b[0;34m\u001b[0m\u001b[0m\n\u001b[1;32m    932\u001b[0m         \u001b[0mx\u001b[0m\u001b[0;34m,\u001b[0m \u001b[0my\u001b[0m \u001b[0;34m=\u001b[0m \u001b[0mself\u001b[0m\u001b[0;34m.\u001b[0m\u001b[0mget_transform\u001b[0m\u001b[0;34m(\u001b[0m\u001b[0;34m)\u001b[0m\u001b[0;34m.\u001b[0m\u001b[0mtransform_point\u001b[0m\u001b[0;34m(\u001b[0m\u001b[0;34m(\u001b[0m\u001b[0mx\u001b[0m\u001b[0;34m,\u001b[0m \u001b[0my\u001b[0m\u001b[0;34m)\u001b[0m\u001b[0;34m)\u001b[0m\u001b[0;34m\u001b[0m\u001b[0;34m\u001b[0m\u001b[0m\n",
      "\u001b[0;32m/anaconda3/envs/tlre-nlp/lib/python3.6/site-packages/matplotlib/text.py\u001b[0m in \u001b[0;36m_get_layout\u001b[0;34m(self, renderer)\u001b[0m\n\u001b[1;32m    337\u001b[0m \u001b[0;34m\u001b[0m\u001b[0m\n\u001b[1;32m    338\u001b[0m         \u001b[0;31m# get the rotation matrix\u001b[0m\u001b[0;34m\u001b[0m\u001b[0;34m\u001b[0m\u001b[0;34m\u001b[0m\u001b[0m\n\u001b[0;32m--> 339\u001b[0;31m         \u001b[0mM\u001b[0m \u001b[0;34m=\u001b[0m \u001b[0mAffine2D\u001b[0m\u001b[0;34m(\u001b[0m\u001b[0;34m)\u001b[0m\u001b[0;34m.\u001b[0m\u001b[0mrotate_deg\u001b[0m\u001b[0;34m(\u001b[0m\u001b[0mself\u001b[0m\u001b[0;34m.\u001b[0m\u001b[0mget_rotation\u001b[0m\u001b[0;34m(\u001b[0m\u001b[0;34m)\u001b[0m\u001b[0;34m)\u001b[0m\u001b[0;34m\u001b[0m\u001b[0;34m\u001b[0m\u001b[0m\n\u001b[0m\u001b[1;32m    340\u001b[0m \u001b[0;34m\u001b[0m\u001b[0m\n\u001b[1;32m    341\u001b[0m         \u001b[0moffsetLayout\u001b[0m \u001b[0;34m=\u001b[0m \u001b[0mnp\u001b[0m\u001b[0;34m.\u001b[0m\u001b[0mzeros\u001b[0m\u001b[0;34m(\u001b[0m\u001b[0;34m(\u001b[0m\u001b[0mlen\u001b[0m\u001b[0;34m(\u001b[0m\u001b[0mlines\u001b[0m\u001b[0;34m)\u001b[0m\u001b[0;34m,\u001b[0m \u001b[0;36m2\u001b[0m\u001b[0;34m)\u001b[0m\u001b[0;34m)\u001b[0m\u001b[0;34m\u001b[0m\u001b[0;34m\u001b[0m\u001b[0m\n",
      "\u001b[0;32m/anaconda3/envs/tlre-nlp/lib/python3.6/site-packages/matplotlib/transforms.py\u001b[0m in \u001b[0;36mrotate_deg\u001b[0;34m(self, degrees)\u001b[0m\n\u001b[1;32m   1987\u001b[0m         \u001b[0;32mand\u001b[0m \u001b[0;34m:\u001b[0m\u001b[0mmeth\u001b[0m\u001b[0;34m:\u001b[0m\u001b[0;31m`\u001b[0m\u001b[0mscale\u001b[0m\u001b[0;31m`\u001b[0m\u001b[0;34m.\u001b[0m\u001b[0;34m\u001b[0m\u001b[0;34m\u001b[0m\u001b[0m\n\u001b[1;32m   1988\u001b[0m         \"\"\"\n\u001b[0;32m-> 1989\u001b[0;31m         \u001b[0;32mreturn\u001b[0m \u001b[0mself\u001b[0m\u001b[0;34m.\u001b[0m\u001b[0mrotate\u001b[0m\u001b[0;34m(\u001b[0m\u001b[0mnp\u001b[0m\u001b[0;34m.\u001b[0m\u001b[0mdeg2rad\u001b[0m\u001b[0;34m(\u001b[0m\u001b[0mdegrees\u001b[0m\u001b[0;34m)\u001b[0m\u001b[0;34m)\u001b[0m\u001b[0;34m\u001b[0m\u001b[0;34m\u001b[0m\u001b[0m\n\u001b[0m\u001b[1;32m   1990\u001b[0m \u001b[0;34m\u001b[0m\u001b[0m\n\u001b[1;32m   1991\u001b[0m     \u001b[0;32mdef\u001b[0m \u001b[0mrotate_around\u001b[0m\u001b[0;34m(\u001b[0m\u001b[0mself\u001b[0m\u001b[0;34m,\u001b[0m \u001b[0mx\u001b[0m\u001b[0;34m,\u001b[0m \u001b[0my\u001b[0m\u001b[0;34m,\u001b[0m \u001b[0mtheta\u001b[0m\u001b[0;34m)\u001b[0m\u001b[0;34m:\u001b[0m\u001b[0;34m\u001b[0m\u001b[0;34m\u001b[0m\u001b[0m\n",
      "\u001b[0;31mKeyboardInterrupt\u001b[0m: "
     ]
    },
    {
     "data": {
      "image/png": "[encoded data removed]",
      "text/plain": [
       "<Figure size 432x288 with 1 Axes>"
      ]
     },
     "metadata": {
      "needs_background": "light"
     },
     "output_type": "display_data"
    }
   ],
   "source": [
    "frame_data = elo_rate_raters(csv_data.sample(frac=1))\n",
    "animate_elo(frame_data,\"movies/elo_all.mp4\")"
   ]
  },
  {
   "cell_type": "code",
   "execution_count": 96,
   "metadata": {},
   "outputs": [
    {
     "name": "stdout",
     "output_type": "stream",
     "text": [
      "       topicID                      docID  label  counts\n",
      "3391     20018  clueweb09-en0032-58-00225      0       2\n",
      "12697    20152  clueweb09-en0007-36-32138      0       2\n",
      "23767    20330  clueweb09-en0048-20-07327     -2       1\n",
      "2923     20016  clueweb09-en0008-83-28350      1       4\n",
      "37528    20766  clueweb09-en0002-78-09252      1       2\n",
      "45332    20986  clueweb09-en0003-92-21518      0       3\n",
      "28481    20424  clueweb09-en0001-52-08821      1       3\n",
      "42368    20956  clueweb09-en0009-33-17242     -2       2\n",
      "45221    20986  clueweb09-en0000-27-06774      2       2\n",
      "3314     20018  clueweb09-en0009-35-21245      0       1\n",
      "5982     20032  clueweb09-en0007-90-35038      1       3\n",
      "37557    20766  clueweb09-en0002-78-09316      0       2\n",
      "29046    20440  clueweb09-en0004-72-10084      1       2\n",
      "38582    20780  clueweb09-en0009-29-07770      0       2\n",
      "18727    20228  clueweb09-en0011-72-35812      0       3\n",
      "2200     20012  clueweb09-en0007-39-24332      1       2\n",
      "30671    20480  clueweb09-enwp00-12-03532      0       4\n",
      "32590    20528  clueweb09-en0043-23-35192      1       1\n",
      "45833    20986  clueweb09-en0129-85-11107      2       2\n",
      "13167    20160  clueweb09-en0002-88-36644      0       2\n",
      "11040    20076  clueweb09-en0006-98-31350      0       2\n",
      "19174    20232  clueweb09-en0011-63-30701      1       4\n",
      "29853    20446  clueweb09-en0009-82-18814      0       1\n",
      "35210    20644  clueweb09-enwp01-61-15420      2       2\n",
      "9150     20044  clueweb09-en0007-08-36639      0       2\n",
      "43414    20962  clueweb09-en0008-36-33174      0       2\n",
      "8793     20042  clueweb09-en0020-10-27554      0       2\n",
      "28795    20424  clueweb09-en0022-67-07008      2       2\n",
      "36969    20714  clueweb09-en0077-28-08165      0       2\n",
      "22527    20300  clueweb09-en0009-33-66262     -2       3\n",
      "...        ...                        ...    ...     ...\n",
      "44255    20976  clueweb09-en0005-45-38003      0       3\n",
      "26886    20412  clueweb09-en0000-78-07999      1       2\n",
      "36365    20696  clueweb09-en0044-07-04913      2       1\n",
      "1133     20008  clueweb09-en0006-32-16738      0       3\n",
      "40443    20910  clueweb09-en0031-34-06161      1       3\n",
      "26309    20384  clueweb09-en0011-57-35325      0       1\n",
      "26234    20384  clueweb09-en0008-92-36925      1       3\n",
      "21619    20298  clueweb09-en0001-25-02210      1       3\n",
      "45951    20996  clueweb09-en0007-49-37371      0       3\n",
      "24269    20332  clueweb09-en0010-84-24500      0       2\n",
      "35508    20686  clueweb09-en0021-02-24955      2       2\n",
      "18006    20224  clueweb09-en0008-66-02990      0       2\n",
      "34371    20636  clueweb09-en0011-70-08020      0       1\n",
      "2280     20012  clueweb09-en0009-39-29828      0       2\n",
      "2356     20012  clueweb09-en0024-37-32267      1       2\n",
      "577      20004  clueweb09-en0107-90-22505      2       2\n",
      "29623    20446  clueweb09-en0005-56-33065      1       3\n",
      "20167    20254  clueweb09-en0033-07-16820      1       4\n",
      "38264    20778  clueweb09-en0078-28-24614      1       2\n",
      "8236     20038  clueweb09-en0067-36-15258      2       2\n",
      "3958     20024  clueweb09-en0006-48-16603      1       2\n",
      "15274    20186  clueweb09-en0005-12-02137      1       2\n",
      "28681    20424  clueweb09-en0008-66-35270      1       2\n",
      "25790    20374  clueweb09-en0011-55-10151      0       2\n",
      "32712    20528  clueweb09-enwp01-35-20613      0       1\n",
      "19223    20232  clueweb09-en0022-58-30088      1       2\n",
      "2538     20014  clueweb09-en0002-36-23401      0       1\n",
      "9144     20044  clueweb09-en0006-70-30054      0       2\n",
      "39725    20814  clueweb09-en0010-57-36728      0       4\n",
      "27601    20416  clueweb09-en0008-02-39448     -2       2\n",
      "\n",
      "[20022 rows x 4 columns]\n",
      "77142\n"
     ]
    }
   ],
   "source": [
    "frame_data = elo_rate_raters(csv_data)"
   ]
  },
  {
   "cell_type": "code",
   "execution_count": 97,
   "metadata": {},
   "outputs": [
    {
     "name": "stdout",
     "output_type": "stream",
     "text": [
      "(-8748.382868790355, 10476.59539506575)\n",
      "0\n",
      "0\n",
      "0\n",
      "1000\n",
      "2000\n",
      "3000\n",
      "4000\n",
      "5000\n",
      "6000\n",
      "7000\n",
      "8000\n",
      "9000\n",
      "10000\n",
      "11000\n",
      "12000\n",
      "13000\n",
      "14000\n",
      "15000\n",
      "16000\n",
      "17000\n",
      "18000\n",
      "19000\n",
      "20000\n",
      "21000\n",
      "22000\n",
      "23000\n",
      "24000\n",
      "25000\n",
      "26000\n",
      "27000\n",
      "28000\n",
      "29000\n",
      "30000\n",
      "31000\n",
      "32000\n",
      "33000\n",
      "34000\n",
      "35000\n",
      "36000\n",
      "37000\n",
      "38000\n",
      "39000\n",
      "40000\n",
      "41000\n",
      "42000\n",
      "43000\n",
      "44000\n",
      "45000\n",
      "46000\n",
      "47000\n",
      "48000\n",
      "49000\n",
      "50000\n",
      "51000\n",
      "52000\n",
      "53000\n",
      "54000\n",
      "55000\n",
      "56000\n",
      "57000\n",
      "58000\n",
      "59000\n",
      "60000\n",
      "61000\n",
      "62000\n",
      "63000\n",
      "64000\n",
      "65000\n",
      "66000\n",
      "67000\n",
      "68000\n",
      "69000\n",
      "70000\n",
      "71000\n",
      "72000\n",
      "73000\n",
      "74000\n",
      "75000\n",
      "76000\n",
      "77000\n"
     ]
    },
    {
     "data": {
      "text/plain": [
       "<Figure size 640x480 with 0 Axes>"
      ]
     },
     "metadata": {},
     "output_type": "display_data"
    },
    {
     "data": {
      "image/png": "[encoded data removed]",
      "text/plain": [
       "<Figure size 1600x900 with 1 Axes>"
      ]
     },
     "metadata": {
      "needs_background": "light"
     },
     "output_type": "display_data"
    }
   ],
   "source": [
    "animate_elo(frame_data,\"movies/elo_all.mp4\",page=100,dpi=100,width=16,height=9)"
   ]
  },
  {
   "cell_type": "code",
   "execution_count": 98,
   "metadata": {},
   "outputs": [
    {
     "data": {
      "text/plain": [
       "[{'w1': 0.25117082814790104,\n",
       "  'w10': 1019.9112508913101,\n",
       "  'w100': 1224.8056314136147,\n",
       "  'w101': -7874.52022043326,\n",
       "  'w102': -2495.3204619311637,\n",
       "  'w103': -822.8250439357478,\n",
       "  'w105': 562.5916457159753,\n",
       "  'w106': 1180.0541742205774,\n",
       "  'w108': 9602.732746708654,\n",
       "  'w109': 1125.7644286021725,\n",
       "  'w110': 1000.8403719585212,\n",
       "  'w112': 1011.6052853894586,\n",
       "  'w113': 1206.126959488749,\n",
       "  'w115': 1195.2372013967529,\n",
       "  'w118': 2659.6377322257845,\n",
       "  'w12': 921.2919122832537,\n",
       "  'w121': 1781.1669999182855,\n",
       "  'w124': 624.7294761403302,\n",
       "  'w126': 1561.6059146796372,\n",
       "  'w127': 1005.9784193810565,\n",
       "  'w128': 946.1090473874012,\n",
       "  'w13': 1037.4003530311077,\n",
       "  'w131': 1143.550025416975,\n",
       "  'w133': 1217.6818516042479,\n",
       "  'w140': 3156.9318683526903,\n",
       "  'w141': 1071.7811198068912,\n",
       "  'w142': 996.9800604603143,\n",
       "  'w151': 1697.1044661754079,\n",
       "  'w152': 1338.0043996157044,\n",
       "  'w153': -423.3010872873701,\n",
       "  'w158': 1079.4461448176999,\n",
       "  'w160': 1177.303098818526,\n",
       "  'w179': 1048.0707349674674,\n",
       "  'w185': 1075.4276810917786,\n",
       "  'w19': 906.6881595491247,\n",
       "  'w192': 1097.478073420869,\n",
       "  'w197': 450.0299585095779,\n",
       "  'w198': 1035.0781236353332,\n",
       "  'w2': 1176.777545222987,\n",
       "  'w205': 1058.1103216468316,\n",
       "  'w208': 576.8905228910689,\n",
       "  'w209': 946.1526530405382,\n",
       "  'w236': 1025.5142323855564,\n",
       "  'w238': 1160.227535837664,\n",
       "  'w25': 1144.9697563015866,\n",
       "  'w267': 897.6434738957114,\n",
       "  'w272': 1102.3570213622577,\n",
       "  'w275': 761.4233584059104,\n",
       "  'w278': 1022.2883088691374,\n",
       "  'w28': 1300.7825667942066,\n",
       "  'w280': 1525.3877035047094,\n",
       "  'w281': 1052.82667028902,\n",
       "  'w288': 1035.190286224176,\n",
       "  'w293': 1194.818314610689,\n",
       "  'w294': 1061.2897203497153,\n",
       "  'w296': 982.5913234199716,\n",
       "  'w3': 1570.471298758053,\n",
       "  'w303': 964.892129942928,\n",
       "  'w305': 1178.4024594127766,\n",
       "  'w32': 1325.5850494627443,\n",
       "  'w322': 1025.332887454429,\n",
       "  'w326': 986.5192944560782,\n",
       "  'w330': 1055.6546824059926,\n",
       "  'w339': 665.8356040152007,\n",
       "  'w343': 711.0882763457709,\n",
       "  'w353': 1016.1508605252762,\n",
       "  'w358': 1079.5772289391468,\n",
       "  'w363': 1022.5314291581936,\n",
       "  'w364': 844.3536628919088,\n",
       "  'w394': -207.01698039938603,\n",
       "  'w398': 924.2216921741219,\n",
       "  'w399': 1084.8019969897612,\n",
       "  'w4': 896.0114273510196,\n",
       "  'w403': 683.9844687597016,\n",
       "  'w427': 765.0896660691214,\n",
       "  'w475': 1329.147999308479,\n",
       "  'w48': 1011.1566453758363,\n",
       "  'w488': 1124.5895056818292,\n",
       "  'w493': 983.0305707296493,\n",
       "  'w495': 69.26483685736318,\n",
       "  'w497': 1077.8865464727521,\n",
       "  'w504': 1302.8430979331677,\n",
       "  'w518': 1677.2939616821172,\n",
       "  'w519': 1137.8682734228348,\n",
       "  'w588': 1073.7416267508486,\n",
       "  'w589': 556.1434261266678,\n",
       "  'w592': 1192.7925359125406,\n",
       "  'w6': 1606.4489242703319,\n",
       "  'w672': 464.1003243114255,\n",
       "  'w674': 438.37327836708727,\n",
       "  'w675': 1680.595614750978,\n",
       "  'w678': 1026.4466154856564,\n",
       "  'w679': 1355.8209854598454,\n",
       "  'w680': -9.856478438678227,\n",
       "  'w682': 2865.1490515878045,\n",
       "  'w683': 1270.0340519856954,\n",
       "  'w685': -627.8837863462137,\n",
       "  'w688': 1332.53256576409,\n",
       "  'w689': 1163.3110295450751,\n",
       "  'w690': 1214.5968407206708,\n",
       "  'w693': 1137.1024063600769,\n",
       "  'w695': 1476.1838865644638,\n",
       "  'w696': 779.8696371104736,\n",
       "  'w7': 1004.3574847929922,\n",
       "  'w712': 1042.9923739266333,\n",
       "  'w715': 1089.556794848858,\n",
       "  'w76': 982.3871269262078,\n",
       "  'w8': 888.9641216721614},\n",
       " {'w1': 0.25117082814790104,\n",
       "  'w10': 1019.9112508913101,\n",
       "  'w100': 1224.8056314136147,\n",
       "  'w101': -7874.52022043326,\n",
       "  'w102': -2495.3204619311637,\n",
       "  'w103': -822.8250439357478,\n",
       "  'w105': 562.5916457159753,\n",
       "  'w106': 1180.0541742205774,\n",
       "  'w108': 9602.732746708654,\n",
       "  'w109': 1125.7644286021725,\n",
       "  'w110': 1000.8403719585212,\n",
       "  'w112': 1011.6052853894586,\n",
       "  'w113': 1206.126959488749,\n",
       "  'w115': 1195.2372013967529,\n",
       "  'w118': 2659.6377322257845,\n",
       "  'w12': 921.2919122832537,\n",
       "  'w121': 1781.1669999182855,\n",
       "  'w124': 624.7294761403302,\n",
       "  'w126': 1561.6059146796372,\n",
       "  'w127': 1005.9784193810565,\n",
       "  'w128': 946.1090473874012,\n",
       "  'w13': 1037.4003530311077,\n",
       "  'w131': 1143.550025416975,\n",
       "  'w133': 1217.6818516042479,\n",
       "  'w140': 3156.9318683526903,\n",
       "  'w141': 1071.7811198068912,\n",
       "  'w142': 996.9800604603143,\n",
       "  'w151': 1697.1044661754079,\n",
       "  'w152': 1338.0043996157044,\n",
       "  'w153': -423.3010872873701,\n",
       "  'w158': 1079.4461448176999,\n",
       "  'w160': 1177.303098818526,\n",
       "  'w179': 1048.0707349674674,\n",
       "  'w185': 1075.4276810917786,\n",
       "  'w19': 906.6881595491247,\n",
       "  'w192': 1097.478073420869,\n",
       "  'w197': 450.0299585095779,\n",
       "  'w198': 1035.0781236353332,\n",
       "  'w2': 1176.777545222987,\n",
       "  'w205': 1058.1103216468316,\n",
       "  'w208': 576.8905228910689,\n",
       "  'w209': 946.1526530405382,\n",
       "  'w236': 1025.5142323855564,\n",
       "  'w238': 1160.227535837664,\n",
       "  'w25': 1144.9697563015866,\n",
       "  'w267': 897.6434738957114,\n",
       "  'w272': 1102.3570213622577,\n",
       "  'w275': 761.6118684761838,\n",
       "  'w278': 1022.2883088691374,\n",
       "  'w28': 1300.7825667942066,\n",
       "  'w280': 1525.3877035047094,\n",
       "  'w281': 1052.82667028902,\n",
       "  'w288': 1035.0017761539027,\n",
       "  'w293': 1194.818314610689,\n",
       "  'w294': 1061.2897203497153,\n",
       "  'w296': 982.5913234199716,\n",
       "  'w3': 1570.471298758053,\n",
       "  'w303': 964.892129942928,\n",
       "  'w305': 1178.4024594127766,\n",
       "  'w32': 1325.5850494627443,\n",
       "  'w322': 1025.332887454429,\n",
       "  'w326': 986.5192944560782,\n",
       "  'w330': 1055.6546824059926,\n",
       "  'w339': 665.8356040152007,\n",
       "  'w343': 711.0882763457709,\n",
       "  'w353': 1016.1508605252762,\n",
       "  'w358': 1079.5772289391468,\n",
       "  'w363': 1022.5314291581936,\n",
       "  'w364': 844.3536628919088,\n",
       "  'w394': -207.01698039938603,\n",
       "  'w398': 924.2216921741219,\n",
       "  'w399': 1084.8019969897612,\n",
       "  'w4': 896.0114273510196,\n",
       "  'w403': 683.9844687597016,\n",
       "  'w427': 765.0896660691214,\n",
       "  'w475': 1329.147999308479,\n",
       "  'w48': 1011.1566453758363,\n",
       "  'w488': 1124.5895056818292,\n",
       "  'w493': 983.0305707296493,\n",
       "  'w495': 69.26483685736318,\n",
       "  'w497': 1077.8865464727521,\n",
       "  'w504': 1302.8430979331677,\n",
       "  'w518': 1677.2939616821172,\n",
       "  'w519': 1137.8682734228348,\n",
       "  'w588': 1073.7416267508486,\n",
       "  'w589': 556.1434261266678,\n",
       "  'w592': 1192.7925359125406,\n",
       "  'w6': 1606.4489242703319,\n",
       "  'w672': 464.1003243114255,\n",
       "  'w674': 438.37327836708727,\n",
       "  'w675': 1680.595614750978,\n",
       "  'w678': 1026.4466154856564,\n",
       "  'w679': 1355.8209854598454,\n",
       "  'w680': -9.856478438678227,\n",
       "  'w682': 2865.1490515878045,\n",
       "  'w683': 1270.0340519856954,\n",
       "  'w685': -627.8837863462137,\n",
       "  'w688': 1332.53256576409,\n",
       "  'w689': 1163.3110295450751,\n",
       "  'w690': 1214.5968407206708,\n",
       "  'w693': 1137.1024063600769,\n",
       "  'w695': 1476.1838865644638,\n",
       "  'w696': 779.8696371104736,\n",
       "  'w7': 1004.3574847929922,\n",
       "  'w712': 1042.9923739266333,\n",
       "  'w715': 1089.556794848858,\n",
       "  'w76': 982.3871269262078,\n",
       "  'w8': 888.9641216721614}]"
      ]
     },
     "execution_count": 98,
     "metadata": {},
     "output_type": "execute_result"
    }
   ],
   "source": [
    "frame_data[len(frame_data)-2:len(frame_data)]"
   ]
  },
  {
   "cell_type": "code",
   "execution_count": 123,
   "metadata": {},
   "outputs": [
    {
     "name": "stdout",
     "output_type": "stream",
     "text": [
      "w101\n",
      "w108\n",
      "       topicID workerID                      docID  gold  label\n",
      "13149    20102     w102  clueweb09-en0005-00-18923    -1      0\n",
      "13150    20102     w102  clueweb09-en0005-54-13217    -1      0\n",
      "13151    20102     w102  clueweb09-en0001-97-28653     1      0\n",
      "13152    20102     w102  clueweb09-en0007-54-37985    -1      0\n",
      "13153    20186     w102  clueweb09-en0010-99-18702    -1      0\n",
      "13154    20186     w102  clueweb09-en0010-99-18716    -1      0\n",
      "13155    20186     w102  clueweb09-en0010-99-18700    -1      0\n",
      "13156    20186     w102  clueweb09-en0010-99-18712    -1      0\n",
      "13157    20186     w102  clueweb09-en0000-62-20678     0      0\n",
      "13158    20102     w102  clueweb09-en0004-12-26742     0      0\n",
      "13159    20102     w102  clueweb09-en0004-60-13115    -1      0\n",
      "13160    20102     w102  clueweb09-enwp00-42-02182     0      0\n",
      "13161    20102     w102  clueweb09-en0004-42-00466    -1      0\n",
      "13162    20102     w102  clueweb09-en0004-34-24405     1      0\n",
      "13163    20186     w102  clueweb09-en0010-99-18734    -1      0\n",
      "13164    20186     w102  clueweb09-en0011-59-21682     0      0\n",
      "13165    20186     w102  clueweb09-en0003-90-29738     0      0\n",
      "13166    20186     w102  clueweb09-en0011-59-26595     0      0\n",
      "13167    20186     w102  clueweb09-en0011-67-26878    -1      0\n",
      "13168    20186     w102  clueweb09-en0017-66-11470    -1      0\n",
      "13169    20186     w102  clueweb09-en0016-24-24442    -1      0\n",
      "13170    20186     w102  clueweb09-en0019-27-06063    -1      0\n",
      "13171    20186     w102  clueweb09-en0019-27-06070    -1      0\n",
      "13172    20186     w102  clueweb09-en0035-75-16968    -1      0\n",
      "13173    20186     w102  clueweb09-en0035-71-06570    -1      0\n",
      "13174    20076     w102  clueweb09-en0009-33-55352    -2      0\n",
      "13175    20076     w102  clueweb09-en0009-33-55352    -2      0\n",
      "13176    20076     w102  clueweb09-en0009-33-55352    -2      0\n",
      "13177    20076     w102  clueweb09-en0009-33-27022    -2      0\n",
      "13178    20076     w102  clueweb09-enwp03-00-21077     1      0\n",
      "...        ...      ...                        ...   ...    ...\n",
      "81261    20152     w330  clueweb09-en0048-27-09243    -1      1\n",
      "81262    20152     w330  clueweb09-enwp00-44-14968     1      0\n",
      "81263    20416     w330  clueweb09-en0004-59-23548    -1      0\n",
      "81264    20202     w330  clueweb09-en0060-45-18598    -1      1\n",
      "81265    20374     w330  clueweb09-en0008-24-35741    -1      1\n",
      "81266    20374     w330  clueweb09-en0002-75-22003     0      1\n",
      "81267    20374     w330  clueweb09-en0008-17-17894    -1      0\n",
      "81268    20374     w330  clueweb09-en0008-17-17896     0      0\n",
      "81269    20374     w330  clueweb09-en0008-26-18623     1      1\n",
      "81270    20202     w330  clueweb09-en0061-04-15668    -1      1\n",
      "81271    20202     w330  clueweb09-en0071-01-12275    -1      0\n",
      "81272    20202     w330  clueweb09-en0009-27-39815     1      1\n",
      "81273    20202     w330  clueweb09-en0086-92-09857    -1      2\n",
      "81274    20416     w330  clueweb09-en0005-10-02799    -1      1\n",
      "81275    20480     w330  clueweb09-en0002-78-08519     1      1\n",
      "81276    20480     w330  clueweb09-en0008-95-19351    -1      0\n",
      "81277    20484     w330  clueweb09-en0007-67-13033    -1      0\n",
      "81278    20484     w330  clueweb09-en0009-33-64922    -2     -2\n",
      "81279    20484     w330  clueweb09-en0007-67-13311    -1      0\n",
      "81280    20484     w330  clueweb09-en0007-69-10972    -1      1\n",
      "81281    20484     w330  clueweb09-en0007-69-10959    -1      1\n",
      "81282    20480     w330  clueweb09-en0006-10-08869    -1      0\n",
      "81283    20480     w330  clueweb09-en0005-88-17305     0      0\n",
      "81284    20480     w330  clueweb09-en0006-11-01868    -1      0\n",
      "81285    20480     w330  clueweb09-en0006-09-16851    -1      0\n",
      "81286    20202     w330  clueweb09-en0086-27-16258    -1      2\n",
      "81287    20480     w330  clueweb09-en0006-11-18378    -1      0\n",
      "81288    20214     w330  clueweb09-en0009-33-56082    -2     -2\n",
      "81289    20202     w330  clueweb09-en0087-84-30942    -1      1\n",
      "81290    20202     w330  clueweb09-en0087-86-14267    -1      2\n",
      "\n",
      "[68142 rows x 5 columns]\n",
      "       topicID                      docID  label  counts\n",
      "13457    20180  clueweb09-en0116-46-27713      0       1\n",
      "19661    20298  clueweb09-en0119-26-20659      0       2\n",
      "4049     20026  clueweb09-en0001-20-13960      2       2\n",
      "8310     20044  clueweb09-en0009-33-38622     -2       2\n",
      "36455    20932  clueweb09-en0003-51-19572      1       2\n",
      "8976     20050  clueweb09-en0003-03-35576      2       2\n",
      "26917    20484  clueweb09-en0002-88-12177      0       1\n",
      "39676    20984  clueweb09-en0002-70-07695      0       2\n",
      "28853    20542  clueweb09-en0001-29-11249      0       1\n",
      "3848     20024  clueweb09-en0038-28-04143      0       1\n",
      "36120    20922  clueweb09-en0010-84-10437      2       2\n",
      "12017    20160  clueweb09-en0030-66-30932      1       2\n",
      "6922     20036  clueweb09-en0060-72-14643      1       2\n",
      "16078    20224  clueweb09-en0019-43-27353     -2       1\n",
      "38309    20962  clueweb09-en0008-19-26340      0       2\n",
      "38189    20962  clueweb09-en0003-16-01493      0       2\n",
      "25713    20440  clueweb09-en0010-97-25391      0       1\n",
      "6863     20036  clueweb09-en0021-35-29071      0       3\n",
      "6472     20036  clueweb09-en0000-53-00779      0       2\n",
      "40397    20986  clueweb09-en0006-88-18511      0       3\n",
      "9546     20064  clueweb09-en0011-34-08379      0       2\n",
      "6233     20034  clueweb09-en0037-12-16466      2       2\n",
      "29655    20598  clueweb09-enwp03-13-17550      0       2\n",
      "26379    20446  clueweb09-en0076-93-16479      1       1\n",
      "12130    20160  clueweb09-enwp00-66-12368      0       1\n",
      "1295     20008  clueweb09-en0124-68-07478      1       2\n",
      "8979     20050  clueweb09-en0003-09-11553      0       2\n",
      "13320    20180  clueweb09-en0011-98-34670      1       2\n",
      "21898    20340  clueweb09-en0024-81-18834      2       4\n",
      "22990    20384  clueweb09-en0006-84-08803      0       2\n",
      "...        ...                        ...    ...     ...\n",
      "15408    20214  clueweb09-en0003-82-29626      0       1\n",
      "27744    20488  clueweb09-en0096-84-28359      2       3\n",
      "1894     20012  clueweb09-en0007-24-16917      2       3\n",
      "10010    20076  clueweb09-en0097-75-04269      1       2\n",
      "16728    20228  clueweb09-en0054-09-09665      1       3\n",
      "2585     20016  clueweb09-en0004-35-04638      0       1\n",
      "10747    20112  clueweb09-enwp00-66-14436      1       3\n",
      "30895    20690  clueweb09-en0009-88-39686      0       1\n",
      "23282    20384  clueweb09-en0092-47-33584      2       2\n",
      "31042    20694  clueweb09-en0000-70-27516      1       1\n",
      "10601    20112  clueweb09-en0044-12-13820      1       2\n",
      "17631    20254  clueweb09-en0000-39-03792      0       1\n",
      "28689    20530  clueweb09-en0009-33-30182     -2       3\n",
      "10015    20076  clueweb09-en0112-61-31183      1       2\n",
      "8877     20048  clueweb09-en0033-08-09810      2       2\n",
      "23741    20412  clueweb09-en0006-60-16416      2       2\n",
      "29072    20542  clueweb09-en0109-67-15231      1       3\n",
      "35485    20916  clueweb09-en0002-41-13049      0       2\n",
      "26473    20480  clueweb09-en0001-55-05382      1       2\n",
      "40122    20986  clueweb09-en0000-27-06774      2       2\n",
      "14416    20202  clueweb09-en0001-55-06038      2       3\n",
      "14668    20202  clueweb09-en0009-33-70692      0       2\n",
      "9624     20064  clueweb09-en0061-85-01974      1       2\n",
      "19742    20300  clueweb09-en0003-52-21264      2       1\n",
      "10239    20102  clueweb09-en0049-65-01021      2       2\n",
      "6886     20036  clueweb09-en0032-35-09967      2       2\n",
      "40179    20986  clueweb09-en0002-18-00729      2       3\n",
      "32037    20714  clueweb09-enwp03-28-11810      0       2\n",
      "24136    20416  clueweb09-en0002-56-25219      2       2\n",
      "1281     20008  clueweb09-en0112-13-14480      0       2\n",
      "\n",
      "[19682 rows x 4 columns]\n",
      "50911\n"
     ]
    }
   ],
   "source": [
    "min_outlier = 'w101'\n",
    "max_outlier = 'w108'\n",
    "frame_data_2=elo_rate_raters(csv_data,outliers=[min_outlier,max_outlier],noob=1)"
   ]
  },
  {
   "cell_type": "code",
   "execution_count": 124,
   "metadata": {},
   "outputs": [
    {
     "name": "stdout",
     "output_type": "stream",
     "text": [
      "(-1905.967808657292, 2599.5856964224845)\n",
      "0\n",
      "0\n",
      "0\n",
      "1000\n",
      "2000\n",
      "3000\n",
      "4000\n",
      "5000\n",
      "6000\n",
      "7000\n",
      "8000\n",
      "9000\n",
      "10000\n",
      "11000\n",
      "12000\n",
      "13000\n",
      "14000\n",
      "15000\n",
      "16000\n",
      "17000\n",
      "18000\n",
      "19000\n",
      "20000\n",
      "21000\n",
      "22000\n",
      "23000\n",
      "24000\n",
      "25000\n",
      "26000\n",
      "27000\n",
      "28000\n",
      "29000\n",
      "30000\n",
      "31000\n",
      "32000\n",
      "33000\n",
      "34000\n",
      "35000\n",
      "36000\n",
      "37000\n",
      "38000\n",
      "39000\n",
      "40000\n",
      "41000\n",
      "42000\n",
      "43000\n",
      "44000\n",
      "45000\n",
      "46000\n",
      "47000\n",
      "48000\n",
      "49000\n",
      "50000\n"
     ]
    },
    {
     "data": {
      "text/plain": [
       "<Figure size 640x480 with 0 Axes>"
      ]
     },
     "metadata": {},
     "output_type": "display_data"
    },
    {
     "data": {
      "image/png": "[encoded data removed]",
      "text/plain": [
       "<Figure size 1600x900 with 1 Axes>"
      ]
     },
     "metadata": {
      "needs_background": "light"
     },
     "output_type": "display_data"
    }
   ],
   "source": [
    "animate_elo(frame_data_2,\"movies/elo_no_outliers_from_1.mp4\",page=100,dpi=100,width=16,height=9,xrotate=-90)"
   ]
  },
  {
   "cell_type": "code",
   "execution_count": null,
   "metadata": {},
   "outputs": [],
   "source": []
  }
 ],
 "metadata": {
  "kernelspec": {
   "display_name": "Python 3",
   "language": "python",
   "name": "python3"
  },
  "language_info": {
   "codemirror_mode": {
    "name": "ipython",
    "version": 3
   },
   "file_extension": ".py",
   "mimetype": "text/x-python",
   "name": "python",
   "nbconvert_exporter": "python",
   "pygments_lexer": "ipython3",
   "version": "3.6.7"
  }
 },
 "nbformat": 4,
 "nbformat_minor": 2
}
